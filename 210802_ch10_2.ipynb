{
  "nbformat": 4,
  "nbformat_minor": 0,
  "metadata": {
    "colab": {
      "name": "210802_ch10-2.ipynb",
      "provenance": [],
      "collapsed_sections": [],
      "authorship_tag": "ABX9TyMMHzVAnGhb2OF7wH/9pz8Y",
      "include_colab_link": true
    },
    "kernelspec": {
      "name": "python3",
      "display_name": "Python 3"
    },
    "language_info": {
      "name": "python"
    }
  },
  "cells": [
    {
      "cell_type": "markdown",
      "metadata": {
        "id": "view-in-github",
        "colab_type": "text"
      },
      "source": [
        "<a href=\"https://colab.research.google.com/github/YCYoon2015/DL_zero_to_all_PyTorch/blob/master/210802_ch10_2.ipynb\" target=\"_parent\"><img src=\"https://colab.research.google.com/assets/colab-badge.svg\" alt=\"Open In Colab\"/></a>"
      ]
    },
    {
      "cell_type": "markdown",
      "metadata": {
        "id": "8LmK8dFG6K55"
      },
      "source": [
        "##ML 학습 단계.\n",
        "\n",
        "1. 라이브러리 가져오기\n",
        "2. GPU 사용설정. random value를 위한 seed 설정\n",
        "3. 학습 파라미터 설정(learning_rate, traing_epochs, batch_size 등)\n",
        "4. 데이터 셋 가져오고 loader 만들기\n",
        "5. 학습 모델 만들기\n",
        "6. Loss function (Criterion)을 선택하고 최적화 도구 선택(optimizer)\n",
        "7. 모델 학습 및 loss check(Criterion의 output)\n",
        "8. 학습된 모델의 성능 확인"
      ]
    },
    {
      "cell_type": "code",
      "metadata": {
        "id": "YwtNShAm5-VF"
      },
      "source": [
        "import torch\n",
        "import torch.nn as nn"
      ],
      "execution_count": 1,
      "outputs": []
    },
    {
      "cell_type": "code",
      "metadata": {
        "id": "hrCqJXfB7H4X"
      },
      "source": [
        "inputs = torch.Tensor(1,1,28,28)"
      ],
      "execution_count": 2,
      "outputs": []
    },
    {
      "cell_type": "code",
      "metadata": {
        "colab": {
          "base_uri": "https://localhost:8080/"
        },
        "id": "dIsh365S7QgN",
        "outputId": "d042df85-de50-4a76-f8a1-0ca5a526d643"
      },
      "source": [
        "inputs.shape"
      ],
      "execution_count": 3,
      "outputs": [
        {
          "output_type": "execute_result",
          "data": {
            "text/plain": [
              "torch.Size([1, 1, 28, 28])"
            ]
          },
          "metadata": {
            "tags": []
          },
          "execution_count": 3
        }
      ]
    },
    {
      "cell_type": "code",
      "metadata": {
        "id": "jQyXa1IL7R-l"
      },
      "source": [
        "conv1 = nn.Conv2d(1,32,3,padding=1)"
      ],
      "execution_count": 4,
      "outputs": []
    },
    {
      "cell_type": "code",
      "metadata": {
        "id": "JqdimeBy7vkC"
      },
      "source": [
        "pool = nn.MaxPool2d(2)"
      ],
      "execution_count": 5,
      "outputs": []
    },
    {
      "cell_type": "code",
      "metadata": {
        "colab": {
          "base_uri": "https://localhost:8080/"
        },
        "id": "WeYaW7mJ7yMj",
        "outputId": "0c8a9b26-91f1-4f54-b1db-176d8ead48fa"
      },
      "source": [
        "pool"
      ],
      "execution_count": 6,
      "outputs": [
        {
          "output_type": "execute_result",
          "data": {
            "text/plain": [
              "MaxPool2d(kernel_size=2, stride=2, padding=0, dilation=1, ceil_mode=False)"
            ]
          },
          "metadata": {
            "tags": []
          },
          "execution_count": 6
        }
      ]
    },
    {
      "cell_type": "code",
      "metadata": {
        "id": "7t5Vv4iY7zAL"
      },
      "source": [
        "conv2 = nn.Conv2d(32,64,3,padding=1)"
      ],
      "execution_count": 7,
      "outputs": []
    },
    {
      "cell_type": "code",
      "metadata": {
        "id": "H_FzCixQ78YP"
      },
      "source": [
        "out = conv1(inputs)"
      ],
      "execution_count": 8,
      "outputs": []
    },
    {
      "cell_type": "code",
      "metadata": {
        "colab": {
          "base_uri": "https://localhost:8080/"
        },
        "id": "M6UNyORq8BJZ",
        "outputId": "2d0d3b85-c97c-4587-fbd8-dc3ff00642c0"
      },
      "source": [
        "out.shape"
      ],
      "execution_count": 9,
      "outputs": [
        {
          "output_type": "execute_result",
          "data": {
            "text/plain": [
              "torch.Size([1, 32, 28, 28])"
            ]
          },
          "metadata": {
            "tags": []
          },
          "execution_count": 9
        }
      ]
    },
    {
      "cell_type": "code",
      "metadata": {
        "colab": {
          "base_uri": "https://localhost:8080/"
        },
        "id": "vQjR5pUO8B36",
        "outputId": "59051c62-ddac-448f-9617-e82fb0819f03"
      },
      "source": [
        "out = pool(out)"
      ],
      "execution_count": 10,
      "outputs": [
        {
          "output_type": "stream",
          "text": [
            "/usr/local/lib/python3.7/dist-packages/torch/nn/functional.py:718: UserWarning: Named tensors and all their associated APIs are an experimental feature and subject to change. Please do not use them for anything important until they are released as stable. (Triggered internally at  /pytorch/c10/core/TensorImpl.h:1156.)\n",
            "  return torch.max_pool2d(input, kernel_size, stride, padding, dilation, ceil_mode)\n"
          ],
          "name": "stderr"
        }
      ]
    },
    {
      "cell_type": "code",
      "metadata": {
        "colab": {
          "base_uri": "https://localhost:8080/"
        },
        "id": "Udq4dE7Q8Hcr",
        "outputId": "6d88c292-0535-4714-a85f-92b12c601ec9"
      },
      "source": [
        "out.shape"
      ],
      "execution_count": 11,
      "outputs": [
        {
          "output_type": "execute_result",
          "data": {
            "text/plain": [
              "torch.Size([1, 32, 14, 14])"
            ]
          },
          "metadata": {
            "tags": []
          },
          "execution_count": 11
        }
      ]
    },
    {
      "cell_type": "code",
      "metadata": {
        "id": "az6jvcY58IOU"
      },
      "source": [
        "out = conv2(out)"
      ],
      "execution_count": 13,
      "outputs": []
    },
    {
      "cell_type": "code",
      "metadata": {
        "id": "I_MDFJZj8M4F"
      },
      "source": [
        "out = pool(out)"
      ],
      "execution_count": 14,
      "outputs": []
    },
    {
      "cell_type": "code",
      "metadata": {
        "colab": {
          "base_uri": "https://localhost:8080/"
        },
        "id": "ZscpQ3Cc8RHX",
        "outputId": "c76d9fca-d102-46df-bf90-ed7a06c192eb"
      },
      "source": [
        "out.shape"
      ],
      "execution_count": 15,
      "outputs": [
        {
          "output_type": "execute_result",
          "data": {
            "text/plain": [
              "torch.Size([1, 64, 7, 7])"
            ]
          },
          "metadata": {
            "tags": []
          },
          "execution_count": 15
        }
      ]
    },
    {
      "cell_type": "markdown",
      "metadata": {
        "id": "4AUG2VWH-EYC"
      },
      "source": [
        ""
      ]
    },
    {
      "cell_type": "code",
      "metadata": {
        "id": "HQs0b3p98Sjq"
      },
      "source": [
        ""
      ],
      "execution_count": null,
      "outputs": []
    }
  ]
}