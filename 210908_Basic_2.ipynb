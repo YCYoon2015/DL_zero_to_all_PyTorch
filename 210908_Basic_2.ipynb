{
  "nbformat": 4,
  "nbformat_minor": 0,
  "metadata": {
    "colab": {
      "name": "210908_Basic-2.ipynb",
      "provenance": [],
      "collapsed_sections": [],
      "authorship_tag": "ABX9TyMyXPR+QmqVMM5XaBFNf4mC",
      "include_colab_link": true
    },
    "kernelspec": {
      "name": "python3",
      "display_name": "Python 3"
    },
    "language_info": {
      "name": "python"
    }
  },
  "cells": [
    {
      "cell_type": "markdown",
      "metadata": {
        "id": "view-in-github",
        "colab_type": "text"
      },
      "source": [
        "<a href=\"https://colab.research.google.com/github/YCYoon2015/DL_zero_to_all_PyTorch/blob/master/210908_Basic_2.ipynb\" target=\"_parent\"><img src=\"https://colab.research.google.com/assets/colab-badge.svg\" alt=\"Open In Colab\"/></a>"
      ]
    },
    {
      "cell_type": "markdown",
      "metadata": {
        "id": "-eZ__mUIMoZo"
      },
      "source": [
        "# Lec 01: 기본적인 Machine Learning 의 용어와 개념 설명\n",
        "\n",
        "### Supervised/Unsupervised learning\n",
        "\n",
        "> 지도, 비지도 교육\n",
        "\n",
        "본 수업에서는 지도학습을 주로 다룬다.\n",
        "\n",
        "지도학습: 이미지 분류, 스팸메일 분류, 시험 성적 예측\n"
      ]
    },
    {
      "cell_type": "markdown",
      "metadata": {
        "id": "riO2cpnoMxqJ"
      },
      "source": [
        "### Types of supervised learning (학습 데이터)\n",
        "\n",
        "- Regression: 범위 점수\n",
        "- Binary classification\n",
        "- Multi-label classification\n"
      ]
    },
    {
      "cell_type": "markdown",
      "metadata": {
        "id": "gYA2uHzkMzRh"
      },
      "source": [
        "### Regression\n",
        "\n",
        "> Reqression toward the mean\n",
        "\n",
        "#### Linear Regression\n",
        "\n",
        "선형회귀, \n",
        "\n",
        "가설 H = Wx + b\n",
        "\n",
        "Cost는  가설의 값과 실제 값의 차\n"
      ]
    },
    {
      "cell_type": "code",
      "metadata": {
        "colab": {
          "base_uri": "https://localhost:8080/",
          "height": 287
        },
        "id": "IhpVcsE5RlMa",
        "outputId": "fcfcbf19-b833-429e-fb4f-bf9c4dede8e5"
      },
      "source": [
        "import matplotlib.pyplot as plt\n",
        "plt.plot(x_data, y_data, 'o')\n",
        "plt.ylim(0, 8)"
      ],
      "execution_count": null,
      "outputs": [
        {
          "output_type": "execute_result",
          "data": {
            "text/plain": [
              "(0.0, 8.0)"
            ]
          },
          "metadata": {},
          "execution_count": 5
        },
        {
          "output_type": "display_data",
          "data": {
            "image/png": "[encoded data removed]",
            "text/plain": [
              "<Figure size 432x288 with 1 Axes>"
            ]
          },
          "metadata": {
            "needs_background": "light"
          }
        }
      ]
    },
    {
      "cell_type": "code",
      "metadata": {
        "colab": {
          "base_uri": "https://localhost:8080/"
        },
        "id": "fqFzzSjIMi84",
        "outputId": "d84e4439-bba1-4904-ef39-3a0412ffe012"
      },
      "source": [
        "import tensorflow as tf\n",
        "import numpy as np\n",
        "\n",
        "print(tf.__version__)\n",
        "\n",
        "x_data = [1, 2, 3, 4, 5]\n",
        "y_data = [1, 2, 3, 5, 6]\n",
        "\n",
        "W = tf.Variable(2.9) # 임의 초기값\n",
        "b = tf.Variable(0.5)\n",
        "\n",
        "hypothesis = W * x_data + b # 가설 (선형)"
      ],
      "execution_count": null,
      "outputs": [
        {
          "output_type": "stream",
          "name": "stdout",
          "text": [
            "2.6.0\n"
          ]
        }
      ]
    },
    {
      "cell_type": "code",
      "metadata": {
        "id": "-Dx7W8O7NuSe"
      },
      "source": [
        "cost = tf.reduce_mean(tf.square(hypothesis - y_data)) # 에러 제곱의 평균\n",
        "#      줄이며 평균 구하기(각 항을 제곱)"
      ],
      "execution_count": null,
      "outputs": []
    },
    {
      "cell_type": "code",
      "metadata": {
        "colab": {
          "base_uri": "https://localhost:8080/"
        },
        "id": "zY_Ba1CTODVh",
        "outputId": "6307e714-0b6d-4c77-f359-8a0b293f553a"
      },
      "source": [
        "print(cost) # tensor"
      ],
      "execution_count": null,
      "outputs": [
        {
          "output_type": "stream",
          "name": "stdout",
          "text": [
            "tf.Tensor(38.82, shape=(), dtype=float32)\n"
          ]
        }
      ]
    },
    {
      "cell_type": "markdown",
      "metadata": {
        "id": "G4bNuQP4OxPb"
      },
      "source": [
        "### Gradient descent\n",
        "\n",
        "minimize cost(W,b)"
      ]
    },
    {
      "cell_type": "code",
      "metadata": {
        "colab": {
          "base_uri": "https://localhost:8080/"
        },
        "id": "47UEjiRhOEwS",
        "outputId": "9d4208d2-a9d1-4a06-8951-e6a964719c1f"
      },
      "source": [
        "learning_rate = 0.01 # Gradient를 얼마나 반영할 것인가\n",
        "\n",
        "with tf.GradientTape() as tape:\n",
        "  hypothesis = W * x_data + b\n",
        "  cost = tf.reduce_mean(tf.square(hypothesis - y_data))\n",
        "\n",
        "w_grad, b_grad = tape.gradient(cost, [W, b]) # cost에 대해 [W, b] 각각 미분값을 구해 튜플로 반환 \n",
        "\"\"\"\n",
        "A.assign_sub(B)\n",
        "A = A - B 의미한다. (객체가 Tensor라 직접 연산으로 쓰지 못하고 함수로 사용한다.)\n",
        "기울기값을 빼면, 최소값으로 다가가게 된다.\n",
        "\"\"\"\n",
        "W.assign_sub(learning_rate * w_grad) # 값을 업데이트 한다.\n",
        "b.assign_sub(learning_rate * b_grad)\n"
      ],
      "execution_count": null,
      "outputs": [
        {
          "output_type": "execute_result",
          "data": {
            "text/plain": [
              "<tf.Variable 'UnreadVariable' shape=() dtype=float32, numpy=0.384>"
            ]
          },
          "metadata": {},
          "execution_count": 7
        }
      ]
    },
    {
      "cell_type": "code",
      "metadata": {
        "colab": {
          "base_uri": "https://localhost:8080/"
        },
        "id": "ofIRlwx-Q-Qp",
        "outputId": "2a2b0976-da93-4e1e-e8d5-330efcbd94e8"
      },
      "source": [
        "x_data = [1, 2, 3, 4, 5]\n",
        "y_data = [1, 2, 3, 5, 6]\n",
        "\n",
        "W = tf.Variable(2.9) # 임의 초기값\n",
        "b = tf.Variable(0.5)\n",
        "\n",
        "for i in range(101): # 위 러닝을 여러번 수행\n",
        "  with tf.GradientTape() as tape:\n",
        "    hypothesis = W * x_data + b\n",
        "    cost = tf.reduce_mean(tf.square(hypothesis - y_data))\n",
        "\n",
        "  w_grad, b_grad = tape.gradient(cost, [W, b]) \n",
        "  W.assign_sub(learning_rate * w_grad) \n",
        "  b.assign_sub(learning_rate * b_grad)\n",
        "\n",
        "  # 중간 변화 확인\n",
        "  if i % 10 == 0:\n",
        "    print(\"{:5}|{:10.4f}|{:10.4f}|{:10.6f}\".format(i, W.numpy(), b.numpy(), cost))"
      ],
      "execution_count": null,
      "outputs": [
        {
          "output_type": "stream",
          "name": "stdout",
          "text": [
            "    0|    2.4880|    0.3840| 38.820000\n",
            "   10|    1.2514|    0.0230|  0.280341\n",
            "   20|    1.1726|   -0.0167|  0.103302\n",
            "   30|    1.1714|   -0.0343|  0.099732\n",
            "   40|    1.1754|   -0.0499|  0.097126\n",
            "   50|    1.1795|   -0.0649|  0.094695\n",
            "   60|    1.1835|   -0.0794|  0.092422\n",
            "   70|    1.1874|   -0.0934|  0.090299\n",
            "   80|    1.1911|   -0.1069|  0.088315\n",
            "   90|    1.1947|   -0.1200|  0.086461\n",
            "  100|    1.1983|   -0.1327|  0.084728\n"
          ]
        }
      ]
    },
    {
      "cell_type": "code",
      "metadata": {
        "colab": {
          "base_uri": "https://localhost:8080/",
          "height": 287
        },
        "id": "4aTRPBypRuvi",
        "outputId": "e1e96f48-8eb0-4222-a405-64d904ff9825"
      },
      "source": [
        "plt.plot(x_data, y_data, 'o')\n",
        "plt.plot(x_data, hypothesis.numpy(), 'r-')\n",
        "plt.ylim(0, 8)"
      ],
      "execution_count": null,
      "outputs": [
        {
          "output_type": "execute_result",
          "data": {
            "text/plain": [
              "(0.0, 8.0)"
            ]
          },
          "metadata": {},
          "execution_count": 15
        },
        {
          "output_type": "display_data",
          "data": {
            "image/png": "[encoded data removed]",
            "text/plain": [
              "<Figure size 432x288 with 1 Axes>"
            ]
          },
          "metadata": {
            "needs_background": "light"
          }
        }
      ]
    },
    {
      "cell_type": "code",
      "metadata": {
        "colab": {
          "base_uri": "https://localhost:8080/"
        },
        "id": "dUdjdZmZR2cI",
        "outputId": "3ea38c37-1849-45c5-c4fb-62c31f5271d9"
      },
      "source": [
        "print(W, b)\n",
        "print(W.numpy(), b.numpy())"
      ],
      "execution_count": null,
      "outputs": [
        {
          "output_type": "stream",
          "name": "stdout",
          "text": [
            "<tf.Variable 'Variable:0' shape=() dtype=float32, numpy=1.1982538> <tf.Variable 'Variable:0' shape=() dtype=float32, numpy=-0.132664>\n",
            "1.1982538 -0.132664\n"
          ]
        }
      ]
    },
    {
      "cell_type": "code",
      "metadata": {
        "id": "QKet7JoHTItM"
      },
      "source": [
        ""
      ],
      "execution_count": null,
      "outputs": []
    },
    {
      "cell_type": "markdown",
      "metadata": {
        "id": "OnUSJBbSahTT"
      },
      "source": [
        "Cost function in pure python"
      ]
    },
    {
      "cell_type": "code",
      "metadata": {
        "colab": {
          "base_uri": "https://localhost:8080/"
        },
        "id": "kiGUhK_9akoW",
        "outputId": "9126a96c-08e0-4299-aed8-38ba9f7b9718"
      },
      "source": [
        "X = np.array([1, 2, 3])\n",
        "Y = np.array([1, 2, 3])\n",
        "\n",
        "def cost_func(W, X, Y):\n",
        "  c = 0\n",
        "  for i in range(len(X)): # 오차의 곱 누적\n",
        "    c += (W * X[i] - Y[i]) ** 2\n",
        "  return c / len(X) # 평균\n",
        "\n",
        "for feed_W in np.linspace(-3, 5, num=15): # 시작, 끝, 구간의 수\n",
        "  curr_cost = cost_func(feed_W, X, Y)\n",
        "  print(\"{:6.3f} | {:10.5f}\".format(feed_W, curr_cost)) # W값에 따른 cost 값"
      ],
      "execution_count": null,
      "outputs": [
        {
          "output_type": "stream",
          "name": "stdout",
          "text": [
            "-3.000 |   74.66667\n",
            "-2.429 |   54.85714\n",
            "-1.857 |   38.09524\n",
            "-1.286 |   24.38095\n",
            "-0.714 |   13.71429\n",
            "-0.143 |    6.09524\n",
            " 0.429 |    1.52381\n",
            " 1.000 |    0.00000\n",
            " 1.571 |    1.52381\n",
            " 2.143 |    6.09524\n",
            " 2.714 |   13.71429\n",
            " 3.286 |   24.38095\n",
            " 3.857 |   38.09524\n",
            " 4.429 |   54.85714\n",
            " 5.000 |   74.66667\n"
          ]
        }
      ]
    },
    {
      "cell_type": "markdown",
      "metadata": {
        "id": "uoOC92rQb_IL"
      },
      "source": [
        "Cost function in TensorFlow"
      ]
    },
    {
      "cell_type": "code",
      "metadata": {
        "colab": {
          "base_uri": "https://localhost:8080/"
        },
        "id": "RNFfLY_kbSBK",
        "outputId": "8bc1efa3-220c-46a8-c9b2-1173dbcb7cda"
      },
      "source": [
        "X = np.array([1, 2, 3])\n",
        "Y = np.array([1, 2, 3])\n",
        "\n",
        "def cost_func(W, X, Y):\n",
        "  hypothesis = X * W\n",
        "  return tf.reduce_mean(tf.square(hypothesis - Y))\n",
        "\n",
        "W_values = np.linspace(-3, 5, num=15)\n",
        "cost_values = []\n",
        "\n",
        "for feed_W in W_values:\n",
        "  curr_cost = cost_func(feed_W, X, Y)\n",
        "  cost_values.append(curr_cost)\n",
        "  print(\"{:6.3f} | {:10.5f}\".format(feed_W, curr_cost))"
      ],
      "execution_count": null,
      "outputs": [
        {
          "output_type": "stream",
          "name": "stdout",
          "text": [
            "-3.000 |   74.66667\n",
            "-2.429 |   54.85714\n",
            "-1.857 |   38.09524\n",
            "-1.286 |   24.38095\n",
            "-0.714 |   13.71429\n",
            "-0.143 |    6.09524\n",
            " 0.429 |    1.52381\n",
            " 1.000 |    0.00000\n",
            " 1.571 |    1.52381\n",
            " 2.143 |    6.09524\n",
            " 2.714 |   13.71429\n",
            " 3.286 |   24.38095\n",
            " 3.857 |   38.09524\n",
            " 4.429 |   54.85714\n",
            " 5.000 |   74.66667\n"
          ]
        }
      ]
    },
    {
      "cell_type": "markdown",
      "metadata": {
        "id": "zVqd7f3rVoPv"
      },
      "source": [
        "# Gradient Descent 구현"
      ]
    },
    {
      "cell_type": "code",
      "metadata": {
        "id": "UE-EbC54cmqL",
        "colab": {
          "base_uri": "https://localhost:8080/"
        },
        "outputId": "2dea0757-f407-4c47-987c-5997a6c5389d"
      },
      "source": [
        "import tensorflow as tf\n",
        "import numpy as np\n",
        "\n",
        "print(tf.__version__)"
      ],
      "execution_count": 1,
      "outputs": [
        {
          "output_type": "stream",
          "name": "stdout",
          "text": [
            "2.6.0\n"
          ]
        }
      ]
    },
    {
      "cell_type": "code",
      "metadata": {
        "id": "vTVApIRvVrWB"
      },
      "source": [
        "tf.random.set_seed(0)"
      ],
      "execution_count": 2,
      "outputs": []
    },
    {
      "cell_type": "code",
      "metadata": {
        "colab": {
          "base_uri": "https://localhost:8080/"
        },
        "id": "jJbsRiWGVuEq",
        "outputId": "cba9ce7f-4ccc-4ff4-80a6-7c4e8f140d32"
      },
      "source": [
        "X = [1., 2., 3., 4.]\n",
        "Y = [1., 3., 5., 7.]\n",
        "\n",
        "W = tf.Variable(tf.random.normal((1,), -100., 100.)) # 모양 평균 분산\n",
        "\n",
        "for step in range(300):\n",
        "  hypothesis = W * X\n",
        "  cost = tf.reduce_mean(tf.square(hypothesis - Y))\n",
        "\n",
        "  alpha = 0.01\n",
        "  gradient = tf.reduce_mean(tf.multiply(tf.multiply(W, X) - Y, X))\n",
        "  descent = W - tf.multiply(alpha, gradient)\n",
        "  W.assign(descent)\n",
        "\n",
        "  if step % 10 == 0:\n",
        "    print('{:5} | {:10.4f} | {:10.6f}'.format(\n",
        "            step, cost.numpy(), W.numpy()[0]))"
      ],
      "execution_count": 4,
      "outputs": [
        {
          "output_type": "stream",
          "name": "stdout",
          "text": [
            "    0 |   189.2715 |   6.311418\n",
            "   10 |    39.9350 |   3.796668\n",
            "   20 |     8.5299 |   2.643447\n",
            "   30 |     1.9254 |   2.114601\n",
            "   40 |     0.5365 |   1.872082\n",
            "   50 |     0.2444 |   1.760866\n",
            "   60 |     0.1830 |   1.709865\n",
            "   70 |     0.1701 |   1.686477\n",
            "   80 |     0.1674 |   1.675751\n",
            "   90 |     0.1668 |   1.670833\n",
            "  100 |     0.1667 |   1.668577\n",
            "  110 |     0.1667 |   1.667543\n",
            "  120 |     0.1667 |   1.667069\n",
            "  130 |     0.1667 |   1.666851\n",
            "  140 |     0.1667 |   1.666751\n",
            "  150 |     0.1667 |   1.666705\n",
            "  160 |     0.1667 |   1.666685\n",
            "  170 |     0.1667 |   1.666675\n",
            "  180 |     0.1667 |   1.666670\n",
            "  190 |     0.1667 |   1.666668\n",
            "  200 |     0.1667 |   1.666667\n",
            "  210 |     0.1667 |   1.666667\n",
            "  220 |     0.1667 |   1.666667\n",
            "  230 |     0.1667 |   1.666667\n",
            "  240 |     0.1667 |   1.666667\n",
            "  250 |     0.1667 |   1.666667\n",
            "  260 |     0.1667 |   1.666667\n",
            "  270 |     0.1667 |   1.666667\n",
            "  280 |     0.1667 |   1.666667\n",
            "  290 |     0.1667 |   1.666667\n"
          ]
        }
      ]
    },
    {
      "cell_type": "markdown",
      "metadata": {
        "id": "GtuB95MsXaSI"
      },
      "source": [
        "bias가 없기때문에 0.166으로 수렴"
      ]
    },
    {
      "cell_type": "code",
      "metadata": {
        "colab": {
          "base_uri": "https://localhost:8080/"
        },
        "id": "bCF21KaOWsWz",
        "outputId": "fdc41475-4817-465b-c1f0-a8629a292ee7"
      },
      "source": [
        "print(5.0 * W)\n",
        "print(2.5 * W)"
      ],
      "execution_count": 5,
      "outputs": [
        {
          "output_type": "stream",
          "name": "stdout",
          "text": [
            "tf.Tensor([8.333338], shape=(1,), dtype=float32)\n",
            "tf.Tensor([4.166669], shape=(1,), dtype=float32)\n"
          ]
        }
      ]
    },
    {
      "cell_type": "code",
      "metadata": {
        "id": "qmXZLxWKXhsC"
      },
      "source": [
        ""
      ],
      "execution_count": null,
      "outputs": []
    }
  ]
}