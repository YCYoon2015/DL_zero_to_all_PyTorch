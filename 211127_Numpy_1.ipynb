{
  "nbformat": 4,
  "nbformat_minor": 0,
  "metadata": {
    "colab": {
      "name": "211127_Numpy-1.ipynb",
      "provenance": [],
      "collapsed_sections": [],
      "authorship_tag": "ABX9TyMyFwej3EujQovUnTvzDPby",
      "include_colab_link": true
    },
    "kernelspec": {
      "name": "python3",
      "display_name": "Python 3"
    },
    "language_info": {
      "name": "python"
    }
  },
  "cells": [
    {
      "cell_type": "markdown",
      "metadata": {
        "id": "view-in-github",
        "colab_type": "text"
      },
      "source": [
        "<a href=\"https://colab.research.google.com/github/ycyoondev/ML-study/blob/master/211127_Numpy_1.ipynb\" target=\"_parent\"><img src=\"https://colab.research.google.com/assets/colab-badge.svg\" alt=\"Open In Colab\"/></a>"
      ]
    },
    {
      "cell_type": "markdown",
      "metadata": {
        "id": "ZwQgEv5Vlv-S"
      },
      "source": [
        "### n차원 리스트를 다루는것보다 numpy를 다루는게 어떤 이익이 있을까?\n",
        "\n",
        "- 2차원 리스트에서 수학적인 계산을 위해서는 직접 구현하여야 하지만, numpy에서는 계산이 목적이므로 이미 간단하게 구현된 계산식을 사용할 수 있다.\n",
        "\n",
        "- 리스트는 배열 순서를 이용한 자료구조로 그 크기가 커지면 탐색에 효율적이지 못하다. 이러한 특징때문에 numpy는 리스트에비해 속도와 메모리 효율에 장점을 가진다.\n",
        "\n",
        "- numpy는 C, C++, 포트란 등 언어와 통합이 가능하다. \n",
        "\n",
        "- 차이점으로, numpy는 리스트와 달리 하나의 타입만 데이터를 저장할 수 있다."
      ]
    },
    {
      "cell_type": "code",
      "metadata": {
        "id": "dOmx7KNqkoVp"
      },
      "source": [
        "import numpy as np\n",
        "\n",
        "a = [i for i in range(1, 6)]\n",
        "b = [i for i in range(5, 0, -1)]\n",
        "\n",
        "a = np.array(a, int)\n",
        "b = np.array(b, float)"
      ],
      "execution_count": null,
      "outputs": []
    },
    {
      "cell_type": "code",
      "metadata": {
        "colab": {
          "base_uri": "https://localhost:8080/"
        },
        "id": "o0KAXSyboHy6",
        "outputId": "02cf41ac-a8d5-4dac-9746-303f32978e2e"
      },
      "source": [
        "a"
      ],
      "execution_count": null,
      "outputs": [
        {
          "output_type": "execute_result",
          "data": {
            "text/plain": [
              "array([1, 2, 3, 4, 5])"
            ]
          },
          "metadata": {},
          "execution_count": 7
        }
      ]
    },
    {
      "cell_type": "code",
      "metadata": {
        "colab": {
          "base_uri": "https://localhost:8080/"
        },
        "id": "FnyZ0UVUoVPf",
        "outputId": "9ddf03ea-9d01-4a65-85f0-c3bf6485166a"
      },
      "source": [
        "b"
      ],
      "execution_count": null,
      "outputs": [
        {
          "output_type": "execute_result",
          "data": {
            "text/plain": [
              "array([5., 4., 3., 2., 1.])"
            ]
          },
          "metadata": {},
          "execution_count": 8
        }
      ]
    },
    {
      "cell_type": "code",
      "metadata": {
        "colab": {
          "base_uri": "https://localhost:8080/"
        },
        "id": "IEsjnLssoI_h",
        "outputId": "16d541fc-4468-4a13-a7cf-fe1566e9bf43"
      },
      "source": [
        "type(b)"
      ],
      "execution_count": null,
      "outputs": [
        {
          "output_type": "execute_result",
          "data": {
            "text/plain": [
              "numpy.ndarray"
            ]
          },
          "metadata": {},
          "execution_count": 5
        }
      ]
    },
    {
      "cell_type": "code",
      "metadata": {
        "colab": {
          "base_uri": "https://localhost:8080/"
        },
        "id": "YB3g-f0WoMQ6",
        "outputId": "9285ad2a-56d6-4ccd-d412-a37badbe5155"
      },
      "source": [
        "print(type(b))"
      ],
      "execution_count": null,
      "outputs": [
        {
          "output_type": "stream",
          "name": "stdout",
          "text": [
            "<class 'numpy.ndarray'>\n"
          ]
        }
      ]
    },
    {
      "cell_type": "markdown",
      "metadata": {
        "id": "t01DJV06o7CI"
      },
      "source": [
        "### 그렇다면 왜 numpy는 리스트보다 빠르고, 메모리 관리가 좋을까?\n",
        "\n",
        "- list는 내부 데이터를 index값으로 저장해서 각각 값을 가리키는 형태로 저장하고있다. 즉 값의 주소와 index의 주소가 다르게 위치한다.\n",
        "\n",
        "- 하지만 numpy의 경우에는 정의된 공간에 순서대로 원소들이 들어가게 된다. 따라서 연산을 수행할때 추가적으로 index를 통해 값을 찾아주지 않아도 된다.\n",
        "\n",
        "- numpy가 같은 위치에서 규칙적인 크기위 메모를 차지하기 때문에 공간관리가 유리하다."
      ]
    },
    {
      "cell_type": "code",
      "metadata": {
        "colab": {
          "base_uri": "https://localhost:8080/"
        },
        "id": "v0efhBdMoPZ8",
        "outputId": "cfe00f0e-cad4-42ae-c2b4-2d017d1a7dd0"
      },
      "source": [
        "a = [i for i in range(1, 6)]\n",
        "b = [i for i in range(5, 0, -1)]\n",
        "\n",
        "a[0] is b[-1]"
      ],
      "execution_count": null,
      "outputs": [
        {
          "output_type": "execute_result",
          "data": {
            "text/plain": [
              "True"
            ]
          },
          "metadata": {},
          "execution_count": 9
        }
      ]
    },
    {
      "cell_type": "code",
      "metadata": {
        "colab": {
          "base_uri": "https://localhost:8080/"
        },
        "id": "B7uLa59Sp2oY",
        "outputId": "e0aa4eb8-e9b3-4996-b27a-98402978e198"
      },
      "source": [
        "aa = np.array(a)\n",
        "bb = np.array(b)\n",
        "\n",
        "aa[0] is bb[-1]"
      ],
      "execution_count": null,
      "outputs": [
        {
          "output_type": "execute_result",
          "data": {
            "text/plain": [
              "False"
            ]
          },
          "metadata": {},
          "execution_count": 10
        }
      ]
    },
    {
      "cell_type": "code",
      "metadata": {
        "colab": {
          "base_uri": "https://localhost:8080/"
        },
        "id": "OyJc7ZFpp9xj",
        "outputId": "1ef5bb1f-da69-4ff9-b501-013bba25e27f"
      },
      "source": [
        "aa.dtype"
      ],
      "execution_count": null,
      "outputs": [
        {
          "output_type": "execute_result",
          "data": {
            "text/plain": [
              "dtype('int64')"
            ]
          },
          "metadata": {},
          "execution_count": 11
        }
      ]
    },
    {
      "cell_type": "code",
      "metadata": {
        "colab": {
          "base_uri": "https://localhost:8080/"
        },
        "id": "0_g1s8WZqNJC",
        "outputId": "f66507c5-20c5-4f76-89b1-5b85e2359a93"
      },
      "source": [
        "aa.shape"
      ],
      "execution_count": null,
      "outputs": [
        {
          "output_type": "execute_result",
          "data": {
            "text/plain": [
              "(5,)"
            ]
          },
          "metadata": {},
          "execution_count": 12
        }
      ]
    },
    {
      "cell_type": "code",
      "metadata": {
        "colab": {
          "base_uri": "https://localhost:8080/"
        },
        "id": "oKx50q89qPxr",
        "outputId": "119cc1f9-c5bc-4dd9-b7b7-6937d67ea088"
      },
      "source": [
        "test = [[1, 1, 1], [2, 2, 2]]\n",
        "test = np.array(test)\n",
        "test.shape"
      ],
      "execution_count": null,
      "outputs": [
        {
          "output_type": "execute_result",
          "data": {
            "text/plain": [
              "(2, 3)"
            ]
          },
          "metadata": {},
          "execution_count": 13
        }
      ]
    },
    {
      "cell_type": "markdown",
      "metadata": {
        "id": "PgnQQqQPRqtu"
      },
      "source": [
        "### matrix reshape\n"
      ]
    },
    {
      "cell_type": "code",
      "metadata": {
        "id": "Dn70SqHnqfzL",
        "colab": {
          "base_uri": "https://localhost:8080/"
        },
        "outputId": "c5b8bc16-a810-422b-9726-7a189fb63615"
      },
      "source": [
        "test_matrix = [[1, 2, 3, 4], [2, 4, 6, 8]]\n",
        "np.array(test_matrix).reshape(8,)"
      ],
      "execution_count": null,
      "outputs": [
        {
          "output_type": "execute_result",
          "data": {
            "text/plain": [
              "array([1, 2, 3, 4, 2, 4, 6, 8])"
            ]
          },
          "metadata": {},
          "execution_count": 8
        }
      ]
    },
    {
      "cell_type": "code",
      "metadata": {
        "colab": {
          "base_uri": "https://localhost:8080/"
        },
        "id": "008ovWh-Ugug",
        "outputId": "a7b43c41-251a-4a6c-aae5-e8617dbb12a9"
      },
      "source": [
        "print(test_matrix) # 원본은 바뀌지 않는다."
      ],
      "execution_count": null,
      "outputs": [
        {
          "output_type": "stream",
          "name": "stdout",
          "text": [
            "[[1, 2, 3, 4], [2, 4, 6, 8]]\n"
          ]
        }
      ]
    },
    {
      "cell_type": "code",
      "metadata": {
        "colab": {
          "base_uri": "https://localhost:8080/"
        },
        "id": "eaVAbRLeUkYA",
        "outputId": "4e7684a7-7287-4de6-fb3e-0fb1ca166aa9"
      },
      "source": [
        "after_reshape = np.array(test_matrix).reshape(8,)\n",
        "after_reshape.shape"
      ],
      "execution_count": null,
      "outputs": [
        {
          "output_type": "execute_result",
          "data": {
            "text/plain": [
              "(8,)"
            ]
          },
          "metadata": {},
          "execution_count": 11
        }
      ]
    },
    {
      "cell_type": "code",
      "metadata": {
        "colab": {
          "base_uri": "https://localhost:8080/"
        },
        "id": "otXVIwb_Uo9o",
        "outputId": "7038f6ba-8260-496a-ae9d-332eedebecb7"
      },
      "source": [
        "# 사이즈가 동일하기 때문에 나머지 자리가 정해지면 하나는 -1로 써서 자동 계산을 이용 할 수 있다.\n",
        "test_matrix = [[1, 2, 3, 4], [2, 4, 6, 8]]\n",
        "np.array(test_matrix).reshape(-1, 1).shape"
      ],
      "execution_count": null,
      "outputs": [
        {
          "output_type": "execute_result",
          "data": {
            "text/plain": [
              "(8, 1)"
            ]
          },
          "metadata": {},
          "execution_count": 14
        }
      ]
    },
    {
      "cell_type": "code",
      "metadata": {
        "colab": {
          "base_uri": "https://localhost:8080/"
        },
        "id": "P0yGPLLxV4Lv",
        "outputId": "d4b77b75-2bf7-4300-97aa-78f38bae76a6"
      },
      "source": [
        "# shape을 변형하는 함수 중에 1차원 리스트로 펴주는 flatten도 있다.\n",
        "test_matrix = [[1, 2, 3, 4], [2, 4, 6, 8]]\n",
        "np.array(test_matrix).flatten()"
      ],
      "execution_count": null,
      "outputs": [
        {
          "output_type": "execute_result",
          "data": {
            "text/plain": [
              "array([1, 2, 3, 4, 2, 4, 6, 8])"
            ]
          },
          "metadata": {},
          "execution_count": 15
        }
      ]
    },
    {
      "cell_type": "markdown",
      "metadata": {
        "id": "voZzg0MrWvEe"
      },
      "source": [
        "### indexing"
      ]
    },
    {
      "cell_type": "code",
      "metadata": {
        "id": "7PvtLL7LWlKI"
      },
      "source": [
        "test_matrix = np.array([[1, 2, 3, 4], [2, 4, 6, 8]])"
      ],
      "execution_count": null,
      "outputs": []
    },
    {
      "cell_type": "code",
      "metadata": {
        "colab": {
          "base_uri": "https://localhost:8080/"
        },
        "id": "LCvcOf6OXJHJ",
        "outputId": "9bc533a6-232e-4824-ed2f-3ef4a82d1f15"
      },
      "source": [
        "test_matrix[1][0] # 일반적인 리스트 방식"
      ],
      "execution_count": null,
      "outputs": [
        {
          "output_type": "execute_result",
          "data": {
            "text/plain": [
              "2"
            ]
          },
          "metadata": {},
          "execution_count": 22
        }
      ]
    },
    {
      "cell_type": "code",
      "metadata": {
        "colab": {
          "base_uri": "https://localhost:8080/"
        },
        "id": "xuQnJLFqXPny",
        "outputId": "09182137-0bf2-4063-f9a5-ce00b65a5f86"
      },
      "source": [
        "test_matrix[1, 0] # numpy는 이래도 됨"
      ],
      "execution_count": null,
      "outputs": [
        {
          "output_type": "execute_result",
          "data": {
            "text/plain": [
              "2"
            ]
          },
          "metadata": {},
          "execution_count": 23
        }
      ]
    },
    {
      "cell_type": "code",
      "metadata": {
        "colab": {
          "base_uri": "https://localhost:8080/"
        },
        "id": "6OGVMlxoXUhn",
        "outputId": "8033b3e0-54c1-4615-e37a-c16d29ddc873"
      },
      "source": [
        "# numpy는 다양한 슬라이싱이 가능하다.\n",
        "arr = [[i * j for i in range(5)] for j in range(1, 6)]\n",
        "arr"
      ],
      "execution_count": null,
      "outputs": [
        {
          "output_type": "execute_result",
          "data": {
            "text/plain": [
              "[[0, 1, 2, 3, 4],\n",
              " [0, 2, 4, 6, 8],\n",
              " [0, 3, 6, 9, 12],\n",
              " [0, 4, 8, 12, 16],\n",
              " [0, 5, 10, 15, 20]]"
            ]
          },
          "metadata": {},
          "execution_count": 24
        }
      ]
    },
    {
      "cell_type": "code",
      "metadata": {
        "colab": {
          "base_uri": "https://localhost:8080/"
        },
        "id": "WbwsUgYtX_8z",
        "outputId": "12ae593a-13d5-421d-bbea-dd389da3a784"
      },
      "source": [
        "arr = np.array(arr)\n",
        "arr"
      ],
      "execution_count": null,
      "outputs": [
        {
          "output_type": "execute_result",
          "data": {
            "text/plain": [
              "array([[ 0,  1,  2,  3,  4],\n",
              "       [ 0,  2,  4,  6,  8],\n",
              "       [ 0,  3,  6,  9, 12],\n",
              "       [ 0,  4,  8, 12, 16],\n",
              "       [ 0,  5, 10, 15, 20]])"
            ]
          },
          "metadata": {},
          "execution_count": 25
        }
      ]
    },
    {
      "cell_type": "code",
      "metadata": {
        "colab": {
          "base_uri": "https://localhost:8080/"
        },
        "id": "ldSmkC_wYF7T",
        "outputId": "5c7c7523-39c4-4e44-b025-29de58018267"
      },
      "source": [
        "# 34,68만 가져오기\n",
        "arr[:2, 3:]"
      ],
      "execution_count": null,
      "outputs": [
        {
          "output_type": "execute_result",
          "data": {
            "text/plain": [
              "array([[3, 4],\n",
              "       [6, 8]])"
            ]
          },
          "metadata": {},
          "execution_count": 26
        }
      ]
    },
    {
      "cell_type": "code",
      "metadata": {
        "colab": {
          "base_uri": "https://localhost:8080/"
        },
        "id": "zFHDrnGHYRC7",
        "outputId": "827e3ecb-a0f3-4cbd-bd08-173590afea33"
      },
      "source": [
        "# 46, 69만 가져오기\n",
        "arr[1:3, 2:4]"
      ],
      "execution_count": null,
      "outputs": [
        {
          "output_type": "execute_result",
          "data": {
            "text/plain": [
              "array([[4, 6],\n",
              "       [6, 9]])"
            ]
          },
          "metadata": {},
          "execution_count": 27
        }
      ]
    },
    {
      "cell_type": "code",
      "metadata": {
        "colab": {
          "base_uri": "https://localhost:8080/"
        },
        "id": "_cFmPrOmYbij",
        "outputId": "ec7c11ba-f16f-4c49-ba26-e57ba6997ad1"
      },
      "source": [
        "# 쉽게 벡터 만들기\n",
        "a = np.arange(100).reshape(10,10)\n",
        "a"
      ],
      "execution_count": null,
      "outputs": [
        {
          "output_type": "execute_result",
          "data": {
            "text/plain": [
              "array([[ 0,  1,  2,  3,  4,  5,  6,  7,  8,  9],\n",
              "       [10, 11, 12, 13, 14, 15, 16, 17, 18, 19],\n",
              "       [20, 21, 22, 23, 24, 25, 26, 27, 28, 29],\n",
              "       [30, 31, 32, 33, 34, 35, 36, 37, 38, 39],\n",
              "       [40, 41, 42, 43, 44, 45, 46, 47, 48, 49],\n",
              "       [50, 51, 52, 53, 54, 55, 56, 57, 58, 59],\n",
              "       [60, 61, 62, 63, 64, 65, 66, 67, 68, 69],\n",
              "       [70, 71, 72, 73, 74, 75, 76, 77, 78, 79],\n",
              "       [80, 81, 82, 83, 84, 85, 86, 87, 88, 89],\n",
              "       [90, 91, 92, 93, 94, 95, 96, 97, 98, 99]])"
            ]
          },
          "metadata": {},
          "execution_count": 29
        }
      ]
    },
    {
      "cell_type": "code",
      "metadata": {
        "colab": {
          "base_uri": "https://localhost:8080/"
        },
        "id": "ol72u8jUY4LQ",
        "outputId": "eba4fd20-c36f-49cf-8921-84b094b56851"
      },
      "source": [
        "a[:, -1]"
      ],
      "execution_count": null,
      "outputs": [
        {
          "output_type": "execute_result",
          "data": {
            "text/plain": [
              "array([ 9, 19, 29, 39, 49, 59, 69, 79, 89, 99])"
            ]
          },
          "metadata": {},
          "execution_count": 30
        }
      ]
    },
    {
      "cell_type": "code",
      "metadata": {
        "colab": {
          "base_uri": "https://localhost:8080/"
        },
        "id": "UFxcyFioY-C6",
        "outputId": "0a57839d-4420-46fa-d836-576751222405"
      },
      "source": [
        "# 세로로 하나걸러 뽑기\n",
        "a[:, ::2]"
      ],
      "execution_count": null,
      "outputs": [
        {
          "output_type": "execute_result",
          "data": {
            "text/plain": [
              "array([[ 0,  2,  4,  6,  8],\n",
              "       [10, 12, 14, 16, 18],\n",
              "       [20, 22, 24, 26, 28],\n",
              "       [30, 32, 34, 36, 38],\n",
              "       [40, 42, 44, 46, 48],\n",
              "       [50, 52, 54, 56, 58],\n",
              "       [60, 62, 64, 66, 68],\n",
              "       [70, 72, 74, 76, 78],\n",
              "       [80, 82, 84, 86, 88],\n",
              "       [90, 92, 94, 96, 98]])"
            ]
          },
          "metadata": {},
          "execution_count": 31
        }
      ]
    },
    {
      "cell_type": "code",
      "metadata": {
        "colab": {
          "base_uri": "https://localhost:8080/"
        },
        "id": "iEQTo5X9ZW-b",
        "outputId": "a068b100-be8d-4f14-f2fa-76c256adaf8e"
      },
      "source": [
        "a[:, 1::2]"
      ],
      "execution_count": null,
      "outputs": [
        {
          "output_type": "execute_result",
          "data": {
            "text/plain": [
              "array([[ 1,  3,  5,  7,  9],\n",
              "       [11, 13, 15, 17, 19],\n",
              "       [21, 23, 25, 27, 29],\n",
              "       [31, 33, 35, 37, 39],\n",
              "       [41, 43, 45, 47, 49],\n",
              "       [51, 53, 55, 57, 59],\n",
              "       [61, 63, 65, 67, 69],\n",
              "       [71, 73, 75, 77, 79],\n",
              "       [81, 83, 85, 87, 89],\n",
              "       [91, 93, 95, 97, 99]])"
            ]
          },
          "metadata": {},
          "execution_count": 32
        }
      ]
    },
    {
      "cell_type": "code",
      "metadata": {
        "id": "t_umBiDjZZnQ",
        "colab": {
          "base_uri": "https://localhost:8080/"
        },
        "outputId": "181d411b-1d2b-4330-82a6-52787f5c3e80"
      },
      "source": [
        "# aragne는 range와 비슷하게 1차원 리스트를 만들어준다고 생각하면된다. \n",
        "# 차이점은 소수점으로 간격 표현도 가능하다.\n",
        "np.arange(0, 3, 0.5)"
      ],
      "execution_count": null,
      "outputs": [
        {
          "output_type": "execute_result",
          "data": {
            "text/plain": [
              "array([0. , 0.5, 1. , 1.5, 2. , 2.5])"
            ]
          },
          "metadata": {},
          "execution_count": 4
        }
      ]
    },
    {
      "cell_type": "code",
      "metadata": {
        "id": "AiMnW8l4XSkT"
      },
      "source": [
        ""
      ],
      "execution_count": null,
      "outputs": []
    }
  ]
}