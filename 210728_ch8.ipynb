{
  "nbformat": 4,
  "nbformat_minor": 0,
  "metadata": {
    "colab": {
      "name": "210728_ch8.ipynb",
      "provenance": [],
      "authorship_tag": "ABX9TyNVmj2C8OLNAFoWS40rrseU",
      "include_colab_link": true
    },
    "kernelspec": {
      "name": "python3",
      "display_name": "Python 3"
    },
    "language_info": {
      "name": "python"
    }
  },
  "cells": [
    {
      "cell_type": "markdown",
      "metadata": {
        "id": "view-in-github",
        "colab_type": "text"
      },
      "source": [
        "<a href=\"https://colab.research.google.com/github/YCYoon2015/DL_zero_to_all_PyTorch/blob/master/210728_ch8.ipynb\" target=\"_parent\"><img src=\"https://colab.research.google.com/assets/colab-badge.svg\" alt=\"Open In Colab\"/></a>"
      ]
    },
    {
      "cell_type": "code",
      "metadata": {
        "id": "bk4S5l3vwIgn"
      },
      "source": [
        "import torch"
      ],
      "execution_count": null,
      "outputs": []
    },
    {
      "cell_type": "code",
      "metadata": {
        "id": "oHOgNzR8xcSo"
      },
      "source": [
        "device = 'cuda' if torch.cuda.is_available() else 'cpu'\n",
        "\n",
        "# for reproducibility\n",
        "torch.manual_seed(777)\n",
        "if device == 'cuda':\n",
        "    torch.cuda.manual_seed_all(777)"
      ],
      "execution_count": null,
      "outputs": []
    },
    {
      "cell_type": "code",
      "metadata": {
        "id": "CRitd7R9xr6e"
      },
      "source": [
        "X = torch.FloatTensor([[0, 0], [0, 1], [1, 0], [1, 1]]).to(device)\n",
        "Y = torch.FloatTensor([[0], [1], [1], [0]]).to(device)"
      ],
      "execution_count": null,
      "outputs": []
    },
    {
      "cell_type": "code",
      "metadata": {
        "id": "O1Os2GiGxwxY"
      },
      "source": [
        "linear = torch.nn.Linear(2, 1, bias=True)\n",
        "sigmoid = torch.nn.Sigmoid()"
      ],
      "execution_count": null,
      "outputs": []
    },
    {
      "cell_type": "code",
      "metadata": {
        "id": "GNOS_o52x-V1"
      },
      "source": [
        "model = torch.nn.Sequential(linear, sigmoid).to(device)"
      ],
      "execution_count": null,
      "outputs": []
    },
    {
      "cell_type": "code",
      "metadata": {
        "id": "_zl7ioY-x_61"
      },
      "source": [
        "criterion = torch.nn.BCELoss().to(device)\n",
        "optimizer = torch.optim.SGD(model.parameters(), lr=1)"
      ],
      "execution_count": null,
      "outputs": []
    },
    {
      "cell_type": "code",
      "metadata": {
        "colab": {
          "base_uri": "https://localhost:8080/"
        },
        "id": "G-GgBerfyBw3",
        "outputId": "cce13f16-bc7b-4e5c-c14b-a9af9cd9eee5"
      },
      "source": [
        "for step in range(10001):\n",
        "    optimizer.zero_grad()\n",
        "    hypothesis = model(X)\n",
        "\n",
        "    # cost/loss function\n",
        "    cost = criterion(hypothesis, Y)\n",
        "    cost.backward()\n",
        "    optimizer.step()\n",
        "\n",
        "    if step % 1000 == 0:\n",
        "        print(step, cost.item())"
      ],
      "execution_count": null,
      "outputs": [
        {
          "output_type": "stream",
          "text": [
            "0 0.7273974418640137\n",
            "1000 0.6931471824645996\n",
            "2000 0.6931471824645996\n",
            "3000 0.6931471824645996\n",
            "4000 0.6931471824645996\n",
            "5000 0.6931471824645996\n",
            "6000 0.6931471824645996\n",
            "7000 0.6931471824645996\n",
            "8000 0.6931471824645996\n",
            "9000 0.6931471824645996\n",
            "10000 0.6931471824645996\n"
          ],
          "name": "stdout"
        }
      ]
    },
    {
      "cell_type": "code",
      "metadata": {
        "colab": {
          "base_uri": "https://localhost:8080/"
        },
        "id": "9CYvl_d8yW9B",
        "outputId": "b5735690-d978-41df-887c-dbeef6036b84"
      },
      "source": [
        "with torch.no_grad():\n",
        "    hypothesis = model(X)\n",
        "    predicted = (hypothesis > 0.5).float()\n",
        "    accuracy = (predicted == Y).float().mean()\n",
        "    print('\\nHypothesis: ', hypothesis.detach().cpu().numpy(), '\\nCorrect: ', predicted.detach().cpu().numpy(), '\\nAccuracy: ', accuracy.item())"
      ],
      "execution_count": null,
      "outputs": [
        {
          "output_type": "stream",
          "text": [
            "\n",
            "Hypothesis:  [[0.5]\n",
            " [0.5]\n",
            " [0.5]\n",
            " [0.5]] \n",
            "Correct:  [[0.]\n",
            " [0.]\n",
            " [0.]\n",
            " [0.]] \n",
            "Accuracy:  0.5\n"
          ],
          "name": "stdout"
        }
      ]
    },
    {
      "cell_type": "markdown",
      "metadata": {
        "id": "ExBwoNfS4o4N"
      },
      "source": [
        "Multi Layer Pereptron\n"
      ]
    },
    {
      "cell_type": "code",
      "metadata": {
        "id": "_hEfrtIKyaXS"
      },
      "source": [
        "X = torch.FloatTensor([[0, 0], [0, 1], [1, 0], [1, 1]]).to(device)\n",
        "Y = torch.FloatTensor([[0], [1], [1], [0]]).to(device)"
      ],
      "execution_count": null,
      "outputs": []
    },
    {
      "cell_type": "code",
      "metadata": {
        "id": "LQIWG-m94oUx"
      },
      "source": [
        "linear1 = torch.nn.Linear(2, 2, bias=True)\n",
        "linear2 = torch.nn.Linear(2, 1, bias=True)\n",
        "sigmoid = torch.nn.Sigmoid()"
      ],
      "execution_count": null,
      "outputs": []
    },
    {
      "cell_type": "code",
      "metadata": {
        "id": "sjrUyNMd426X"
      },
      "source": [
        "model = torch.nn.Sequential(linear1, sigmoid, linear2, sigmoid).to(device)"
      ],
      "execution_count": null,
      "outputs": []
    },
    {
      "cell_type": "code",
      "metadata": {
        "id": "1buETc0N44Lf"
      },
      "source": [
        "criterion = torch.nn.BCELoss().to(device)\n",
        "optimizer = torch.optim.SGD(model.parameters(), lr=1) "
      ],
      "execution_count": null,
      "outputs": []
    },
    {
      "cell_type": "code",
      "metadata": {
        "colab": {
          "base_uri": "https://localhost:8080/"
        },
        "id": "_qmBpW7K46Po",
        "outputId": "8559484a-ffc6-4551-ab4f-21fc37fd7c6d"
      },
      "source": [
        "for step in range(10001):\n",
        "    optimizer.zero_grad()\n",
        "    hypothesis = model(X)\n",
        "\n",
        "    # cost/loss function\n",
        "    cost = criterion(hypothesis, Y)\n",
        "    cost.backward()\n",
        "    optimizer.step()\n",
        "\n",
        "    if step % 500 == 0:\n",
        "        print(step, cost.item())"
      ],
      "execution_count": null,
      "outputs": [
        {
          "output_type": "stream",
          "text": [
            "0 0.8614466190338135\n",
            "500 0.5637606978416443\n",
            "1000 0.036910295486450195\n",
            "1500 0.012923291884362698\n",
            "2000 0.007736333180218935\n",
            "2500 0.005500460043549538\n",
            "3000 0.004260209389030933\n",
            "3500 0.0034732415806502104\n",
            "4000 0.002930037211626768\n",
            "4500 0.002532843267545104\n",
            "5000 0.002229896606877446\n",
            "5500 0.0019913213327527046\n",
            "6000 0.0017985738813877106\n",
            "6500 0.0016396716237068176\n",
            "7000 0.0015064196195453405\n",
            "7500 0.0013931068824604154\n",
            "8000 0.0012955338461324573\n",
            "8500 0.0012106968788430095\n",
            "9000 0.0011362803634256124\n",
            "9500 0.0010703874286264181\n",
            "10000 0.0010116887278854847\n"
          ],
          "name": "stdout"
        }
      ]
    },
    {
      "cell_type": "code",
      "metadata": {
        "colab": {
          "base_uri": "https://localhost:8080/"
        },
        "id": "UJ6foG3K4-vi",
        "outputId": "d8e21c49-205a-4a9a-bcbe-71e32d509506"
      },
      "source": [
        "with torch.no_grad():\n",
        "    hypothesis = model(X)\n",
        "    predicted = (hypothesis > 0.5).float()\n",
        "    accuracy = (predicted == Y).float().mean()\n",
        "    print('\\nHypothesis: ', hypothesis.detach().cpu().numpy(), '\\nCorrect: ', predicted.detach().cpu().numpy(), '\\nAccuracy: ', accuracy.item())"
      ],
      "execution_count": null,
      "outputs": [
        {
          "output_type": "stream",
          "text": [
            "\n",
            "Hypothesis:  [[1.3017104e-03]\n",
            " [9.9909627e-01]\n",
            " [9.9909198e-01]\n",
            " [9.3076332e-04]] \n",
            "Correct:  [[0.]\n",
            " [1.]\n",
            " [1.]\n",
            " [0.]] \n",
            "Accuracy:  1.0\n"
          ],
          "name": "stdout"
        }
      ]
    },
    {
      "cell_type": "markdown",
      "metadata": {
        "id": "jclsQTRn7Fvm"
      },
      "source": [
        "nn wide deep"
      ]
    },
    {
      "cell_type": "code",
      "metadata": {
        "id": "d1-5Bs-Z5Wus"
      },
      "source": [
        "X = torch.FloatTensor([[0, 0], [0, 1], [1, 0], [1, 1]]).to(device)\n",
        "Y = torch.FloatTensor([[0], [1], [1], [0]]).to(device)"
      ],
      "execution_count": null,
      "outputs": []
    },
    {
      "cell_type": "code",
      "metadata": {
        "id": "2G-VBRQp7L02"
      },
      "source": [
        "# nn layers\n",
        "linear1 = torch.nn.Linear(2, 10, bias=True)\n",
        "linear2 = torch.nn.Linear(10, 10, bias=True)\n",
        "linear3 = torch.nn.Linear(10, 10, bias=True)\n",
        "linear4 = torch.nn.Linear(10, 1, bias=True)\n",
        "sigmoid = torch.nn.Sigmoid()"
      ],
      "execution_count": null,
      "outputs": []
    },
    {
      "cell_type": "code",
      "metadata": {
        "id": "H2-DooF17NJ-"
      },
      "source": [
        "model = torch.nn.Sequential(linear1, sigmoid, linear2, sigmoid, linear3, sigmoid, linear4, sigmoid).to(device)"
      ],
      "execution_count": null,
      "outputs": []
    },
    {
      "cell_type": "code",
      "metadata": {
        "id": "ZysAObYR7OOG"
      },
      "source": [
        "criterion = torch.nn.BCELoss().to(device)\n",
        "optimizer = torch.optim.SGD(model.parameters(), lr=1)"
      ],
      "execution_count": null,
      "outputs": []
    },
    {
      "cell_type": "code",
      "metadata": {
        "id": "nZGIYYkz7QGP",
        "colab": {
          "base_uri": "https://localhost:8080/"
        },
        "outputId": "e84a3513-5a4b-4452-99a5-25a6c377961a"
      },
      "source": [
        "for step in range(10001):\n",
        "    optimizer.zero_grad()\n",
        "    hypothesis = model(X)\n",
        "\n",
        "    # cost/loss function\n",
        "    cost = criterion(hypothesis, Y)\n",
        "    cost.backward()\n",
        "    optimizer.step()\n",
        "\n",
        "    if step % 500 == 0:\n",
        "        print(step, cost.item())"
      ],
      "execution_count": null,
      "outputs": [
        {
          "output_type": "stream",
          "text": [
            "0 0.694418728351593\n",
            "500 0.6931355595588684\n",
            "1000 0.6931178569793701\n",
            "1500 0.6930921077728271\n",
            "2000 0.6930449604988098\n",
            "2500 0.6929320096969604\n",
            "3000 0.6924989819526672\n",
            "3500 0.6856310367584229\n",
            "4000 0.009836860001087189\n",
            "4500 0.0014347927644848824\n",
            "5000 0.0007205454166978598\n",
            "5500 0.0004715726536232978\n",
            "6000 0.00034730404149740934\n",
            "6500 0.0002734301961027086\n",
            "7000 0.00022473561693914235\n",
            "7500 0.0001903214433696121\n",
            "8000 0.00016479106852784753\n",
            "8500 0.00014516309602186084\n",
            "9000 0.00012952956603839993\n",
            "9500 0.00011687686492223293\n",
            "10000 0.00010642994311638176\n"
          ],
          "name": "stdout"
        }
      ]
    },
    {
      "cell_type": "code",
      "metadata": {
        "id": "Sa1K-pGT7SIA",
        "colab": {
          "base_uri": "https://localhost:8080/"
        },
        "outputId": "339e6c8f-a4df-49ee-f1f6-8a9c67e354f7"
      },
      "source": [
        "with torch.no_grad():\n",
        "    hypothesis = model(X)\n",
        "    predicted = (hypothesis > 0.5).float()\n",
        "    accuracy = (predicted == Y).float().mean()\n",
        "    print('\\nHypothesis: ', hypothesis.detach().cpu().numpy(), '\\nCorrect: ', predicted.detach().cpu().numpy(), '\\nAccuracy: ', accuracy.item())"
      ],
      "execution_count": null,
      "outputs": [
        {
          "output_type": "stream",
          "text": [
            "\n",
            "Hypothesis:  [[8.9437395e-05]\n",
            " [9.9987936e-01]\n",
            " [9.9991488e-01]\n",
            " [1.3042473e-04]] \n",
            "Correct:  [[0.]\n",
            " [1.]\n",
            " [1.]\n",
            " [0.]] \n",
            "Accuracy:  1.0\n"
          ],
          "name": "stdout"
        }
      ]
    },
    {
      "cell_type": "code",
      "metadata": {
        "id": "iML_8awL7UdZ"
      },
      "source": [
        ""
      ],
      "execution_count": null,
      "outputs": []
    }
  ]
}