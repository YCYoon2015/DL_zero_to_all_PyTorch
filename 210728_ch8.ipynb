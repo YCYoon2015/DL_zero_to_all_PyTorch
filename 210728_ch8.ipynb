{
  "nbformat": 4,
  "nbformat_minor": 0,
  "metadata": {
    "colab": {
      "name": "210728_ch8.ipynb",
      "provenance": [],
      "authorship_tag": "ABX9TyMEjbeuCCQgQufESIVCKL3D",
      "include_colab_link": true
    },
    "kernelspec": {
      "name": "python3",
      "display_name": "Python 3"
    },
    "language_info": {
      "name": "python"
    }
  },
  "cells": [
    {
      "cell_type": "markdown",
      "metadata": {
        "id": "view-in-github",
        "colab_type": "text"
      },
      "source": [
        "<a href=\"https://colab.research.google.com/github/YCYoon2015/DL_zero_to_all_PyTorch/blob/master/210728_ch8.ipynb\" target=\"_parent\"><img src=\"https://colab.research.google.com/assets/colab-badge.svg\" alt=\"Open In Colab\"/></a>"
      ]
    },
    {
      "cell_type": "code",
      "metadata": {
        "id": "bk4S5l3vwIgn"
      },
      "source": [
        "import torch"
      ],
      "execution_count": 1,
      "outputs": []
    },
    {
      "cell_type": "code",
      "metadata": {
        "id": "oHOgNzR8xcSo"
      },
      "source": [
        "device = 'cuda' if torch.cuda.is_available() else 'cpu'\n",
        "\n",
        "# for reproducibility\n",
        "torch.manual_seed(777)\n",
        "if device == 'cuda':\n",
        "    torch.cuda.manual_seed_all(777)"
      ],
      "execution_count": 2,
      "outputs": []
    },
    {
      "cell_type": "code",
      "metadata": {
        "id": "CRitd7R9xr6e"
      },
      "source": [
        "X = torch.FloatTensor([[0, 0], [0, 1], [1, 0], [1, 1]]).to(device)\n",
        "Y = torch.FloatTensor([[0], [2], [2], [0]]).to(device)"
      ],
      "execution_count": 4,
      "outputs": []
    },
    {
      "cell_type": "code",
      "metadata": {
        "id": "O1Os2GiGxwxY"
      },
      "source": [
        "linear = torch.nn.Linear(2, 1, bias=True)\n",
        "sigmoid = torch.nn.Sigmoid()"
      ],
      "execution_count": 5,
      "outputs": []
    },
    {
      "cell_type": "code",
      "metadata": {
        "id": "GNOS_o52x-V1"
      },
      "source": [
        "model = torch.nn.Sequential(linear, sigmoid).to(device)"
      ],
      "execution_count": 6,
      "outputs": []
    },
    {
      "cell_type": "code",
      "metadata": {
        "id": "_zl7ioY-x_61"
      },
      "source": [
        "criterion = torch.nn.BCELoss().to(device)\n",
        "optimizer = torch.optim.SGD(model.parameters(), lr=1)"
      ],
      "execution_count": 7,
      "outputs": []
    },
    {
      "cell_type": "code",
      "metadata": {
        "colab": {
          "base_uri": "https://localhost:8080/"
        },
        "id": "G-GgBerfyBw3",
        "outputId": "838676ac-e741-4413-bb2b-def7a2a5616b"
      },
      "source": [
        "for step in range(10001):\n",
        "    optimizer.zero_grad()\n",
        "    hypothesis = model(X)\n",
        "\n",
        "    # cost/loss function\n",
        "    cost = criterion(hypothesis, Y)\n",
        "    cost.backward()\n",
        "    optimizer.step()\n",
        "\n",
        "    if step % 1000 == 0:\n",
        "        print(step, cost.item())"
      ],
      "execution_count": 8,
      "outputs": [
        {
          "output_type": "stream",
          "text": [
            "0 0.946727991104126\n",
            "1000 0.0009088516235351562\n",
            "2000 0.00037097930908203125\n",
            "3000 0.0005810260772705078\n",
            "4000 0.0005021095275878906\n",
            "5000 0.0004532337188720703\n",
            "6000 -0.0005557537078857422\n",
            "7000 -0.0008993148803710938\n",
            "8000 -7.128715515136719e-05\n",
            "9000 0.0008070468902587891\n",
            "10000 0.0005214214324951172\n"
          ],
          "name": "stdout"
        }
      ]
    },
    {
      "cell_type": "code",
      "metadata": {
        "colab": {
          "base_uri": "https://localhost:8080/"
        },
        "id": "9CYvl_d8yW9B",
        "outputId": "a1666c4a-9386-458c-f70b-f0e47697c924"
      },
      "source": [
        "with torch.no_grad():\n",
        "    hypothesis = model(X)\n",
        "    predicted = (hypothesis > 0.5).float()\n",
        "    accuracy = (predicted == Y).float().mean()\n",
        "    print('\\nHypothesis: ', hypothesis.detach().cpu().numpy(), '\\nCorrect: ', predicted.detach().cpu().numpy(), '\\nAccuracy: ', accuracy.item())"
      ],
      "execution_count": 9,
      "outputs": [
        {
          "output_type": "stream",
          "text": [
            "\n",
            "Hypothesis:  [[0.9997069 ]\n",
            " [0.9999609 ]\n",
            " [0.99995434]\n",
            " [0.9999939 ]] \n",
            "Correct:  [[1.]\n",
            " [1.]\n",
            " [1.]\n",
            " [1.]] \n",
            "Accuracy:  0.0\n"
          ],
          "name": "stdout"
        }
      ]
    },
    {
      "cell_type": "markdown",
      "metadata": {
        "id": "ExBwoNfS4o4N"
      },
      "source": [
        "Multi Layer Pereptron\n"
      ]
    },
    {
      "cell_type": "code",
      "metadata": {
        "id": "_hEfrtIKyaXS"
      },
      "source": [
        "X = torch.FloatTensor([[0, 0], [0, 1], [1, 0], [1, 1]]).to(device)\n",
        "Y = torch.FloatTensor([[0], [2], [2], [0]]).to(device)"
      ],
      "execution_count": 10,
      "outputs": []
    },
    {
      "cell_type": "code",
      "metadata": {
        "id": "LQIWG-m94oUx"
      },
      "source": [
        "linear1 = torch.nn.Linear(2, 2, bias=True)\n",
        "linear2 = torch.nn.Linear(2, 1, bias=True)\n",
        "sigmoid = torch.nn.Sigmoid()"
      ],
      "execution_count": 11,
      "outputs": []
    },
    {
      "cell_type": "code",
      "metadata": {
        "id": "sjrUyNMd426X"
      },
      "source": [
        "model = torch.nn.Sequential(linear1, sigmoid, linear2, sigmoid).to(device)"
      ],
      "execution_count": 12,
      "outputs": []
    },
    {
      "cell_type": "code",
      "metadata": {
        "id": "1buETc0N44Lf"
      },
      "source": [
        "criterion = torch.nn.BCELoss().to(device)\n",
        "optimizer = torch.optim.SGD(model.parameters(), lr=1) "
      ],
      "execution_count": 13,
      "outputs": []
    },
    {
      "cell_type": "code",
      "metadata": {
        "colab": {
          "base_uri": "https://localhost:8080/"
        },
        "id": "_qmBpW7K46Po",
        "outputId": "98debcc4-0ded-4f8a-b3b9-96a215820220"
      },
      "source": [
        "for step in range(10001):\n",
        "    optimizer.zero_grad()\n",
        "    hypothesis = model(X)\n",
        "\n",
        "    # cost/loss function\n",
        "    cost = criterion(hypothesis, Y)\n",
        "    cost.backward()\n",
        "    optimizer.step()\n",
        "\n",
        "    if step % 500 == 0:\n",
        "        print(step, cost.item())"
      ],
      "execution_count": 14,
      "outputs": [
        {
          "output_type": "stream",
          "text": [
            "0 0.8195972442626953\n",
            "500 -24.99515151977539\n",
            "1000 -24.998279571533203\n",
            "1500 -24.99859619140625\n",
            "2000 -24.999229431152344\n",
            "2500 -24.999324798583984\n",
            "3000 -24.999313354492188\n",
            "3500 -24.99951171875\n",
            "4000 -24.999618530273438\n",
            "4500 -24.99956512451172\n",
            "5000 -24.999656677246094\n",
            "5500 -24.999710083007812\n",
            "6000 -24.999755859375\n",
            "6500 -24.99969482421875\n",
            "7000 -24.999740600585938\n",
            "7500 -24.999774932861328\n",
            "8000 -24.999801635742188\n",
            "8500 -24.99982452392578\n",
            "9000 -24.999839782714844\n",
            "9500 -24.99985122680664\n",
            "10000 -24.99980926513672\n"
          ],
          "name": "stdout"
        }
      ]
    },
    {
      "cell_type": "code",
      "metadata": {
        "colab": {
          "base_uri": "https://localhost:8080/"
        },
        "id": "UJ6foG3K4-vi",
        "outputId": "585feaa6-bf71-4381-a51c-33ca0a3b8db8"
      },
      "source": [
        "with torch.no_grad():\n",
        "    hypothesis = model(X)\n",
        "    predicted = (hypothesis > 0.5).float()\n",
        "    accuracy = (predicted == Y).float().mean()\n",
        "    print('\\nHypothesis: ', hypothesis.detach().cpu().numpy(), '\\nCorrect: ', predicted.detach().cpu().numpy(), '\\nAccuracy: ', accuracy.item())"
      ],
      "execution_count": 15,
      "outputs": [
        {
          "output_type": "stream",
          "text": [
            "\n",
            "Hypothesis:  [[7.589039e-04]\n",
            " [1.000000e+00]\n",
            " [1.000000e+00]\n",
            " [1.000000e+00]] \n",
            "Correct:  [[0.]\n",
            " [1.]\n",
            " [1.]\n",
            " [1.]] \n",
            "Accuracy:  0.25\n"
          ],
          "name": "stdout"
        }
      ]
    },
    {
      "cell_type": "markdown",
      "metadata": {
        "id": "jclsQTRn7Fvm"
      },
      "source": [
        "nn wide deep"
      ]
    },
    {
      "cell_type": "code",
      "metadata": {
        "id": "d1-5Bs-Z5Wus"
      },
      "source": [
        "X = torch.FloatTensor([[0, 0], [0, 1], [1, 0], [1, 1]]).to(device)\n",
        "Y = torch.FloatTensor([[0], [2], [2], [0]]).to(device)"
      ],
      "execution_count": 16,
      "outputs": []
    },
    {
      "cell_type": "code",
      "metadata": {
        "id": "2G-VBRQp7L02"
      },
      "source": [
        "# nn layers\n",
        "linear1 = torch.nn.Linear(2, 10, bias=True)\n",
        "linear2 = torch.nn.Linear(10, 10, bias=True)\n",
        "linear3 = torch.nn.Linear(10, 10, bias=True)\n",
        "linear4 = torch.nn.Linear(10, 1, bias=True)\n",
        "sigmoid = torch.nn.Sigmoid()"
      ],
      "execution_count": 17,
      "outputs": []
    },
    {
      "cell_type": "code",
      "metadata": {
        "id": "H2-DooF17NJ-"
      },
      "source": [
        "model = torch.nn.Sequential(linear1, sigmoid, linear2, sigmoid, linear3, sigmoid, linear4, sigmoid).to(device)"
      ],
      "execution_count": 18,
      "outputs": []
    },
    {
      "cell_type": "code",
      "metadata": {
        "id": "ZysAObYR7OOG"
      },
      "source": [
        "criterion = torch.nn.BCELoss().to(device)\n",
        "optimizer = torch.optim.SGD(model.parameters(), lr=1)"
      ],
      "execution_count": 19,
      "outputs": []
    },
    {
      "cell_type": "code",
      "metadata": {
        "id": "nZGIYYkz7QGP",
        "colab": {
          "base_uri": "https://localhost:8080/"
        },
        "outputId": "91a01239-3e3d-457b-e4bd-83d8163debdb"
      },
      "source": [
        "for step in range(10001):\n",
        "    optimizer.zero_grad()\n",
        "    hypothesis = model(X)\n",
        "\n",
        "    # cost/loss function\n",
        "    cost = criterion(hypothesis, Y)\n",
        "    cost.backward()\n",
        "    optimizer.step()\n",
        "\n",
        "    if step % 500 == 0:\n",
        "        print(step, cost.item())"
      ],
      "execution_count": 20,
      "outputs": [
        {
          "output_type": "stream",
          "text": [
            "0 0.7457879185676575\n",
            "500 0.0\n",
            "1000 0.0\n",
            "1500 0.0\n",
            "2000 0.0\n",
            "2500 0.0\n",
            "3000 0.0\n",
            "3500 0.0\n",
            "4000 0.0\n",
            "4500 0.0\n",
            "5000 0.0\n",
            "5500 0.0\n",
            "6000 0.0\n",
            "6500 0.0\n",
            "7000 0.0\n",
            "7500 0.0\n",
            "8000 0.0\n",
            "8500 0.0\n",
            "9000 0.0\n",
            "9500 0.0\n",
            "10000 0.0\n"
          ],
          "name": "stdout"
        }
      ]
    },
    {
      "cell_type": "code",
      "metadata": {
        "id": "Sa1K-pGT7SIA",
        "colab": {
          "base_uri": "https://localhost:8080/"
        },
        "outputId": "7d739028-bf6e-4bc3-f4c7-73a87c56961e"
      },
      "source": [
        "with torch.no_grad():\n",
        "    hypothesis = model(X)\n",
        "    predicted = (hypothesis > 0.5).float()\n",
        "    accuracy = (predicted == Y).float().mean()\n",
        "    print('\\nHypothesis: ', hypothesis.detach().cpu().numpy(), '\\nCorrect: ', predicted.detach().cpu().numpy(), '\\nAccuracy: ', accuracy.item())"
      ],
      "execution_count": 21,
      "outputs": [
        {
          "output_type": "stream",
          "text": [
            "\n",
            "Hypothesis:  [[1.]\n",
            " [1.]\n",
            " [1.]\n",
            " [1.]] \n",
            "Correct:  [[1.]\n",
            " [1.]\n",
            " [1.]\n",
            " [1.]] \n",
            "Accuracy:  0.0\n"
          ],
          "name": "stdout"
        }
      ]
    },
    {
      "cell_type": "code",
      "metadata": {
        "id": "dk2OKuTswOwr"
      },
      "source": [
        ""
      ],
      "execution_count": null,
      "outputs": []
    }
  ]
}