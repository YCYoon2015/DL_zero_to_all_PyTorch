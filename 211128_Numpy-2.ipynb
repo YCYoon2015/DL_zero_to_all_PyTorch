{
  "nbformat": 4,
  "nbformat_minor": 0,
  "metadata": {
    "colab": {
      "name": "211128_Numpy-2.ipynb",
      "provenance": [],
      "collapsed_sections": [],
      "authorship_tag": "ABX9TyOgBj/WMdeGVt+VJCZp3dZd",
      "include_colab_link": true
    },
    "kernelspec": {
      "name": "python3",
      "display_name": "Python 3"
    },
    "language_info": {
      "name": "python"
    }
  },
  "cells": [
    {
      "cell_type": "markdown",
      "metadata": {
        "id": "view-in-github",
        "colab_type": "text"
      },
      "source": [
        "<a href=\"https://colab.research.google.com/github/ycyoondev/ML-study/blob/master/211128_Numpy-2.ipynb\" target=\"_parent\"><img src=\"https://colab.research.google.com/assets/colab-badge.svg\" alt=\"Open In Colab\"/></a>"
      ]
    },
    {
      "cell_type": "code",
      "metadata": {
        "id": "455j_7FSX_qZ"
      },
      "source": [
        "import numpy as np"
      ],
      "execution_count": 1,
      "outputs": []
    },
    {
      "cell_type": "markdown",
      "metadata": {
        "id": "XPrDX4kYYJ4a"
      },
      "source": [
        "### 유용한 numpy 함수들을 배운다."
      ]
    },
    {
      "cell_type": "code",
      "metadata": {
        "colab": {
          "base_uri": "https://localhost:8080/"
        },
        "id": "QEntmDjNYFlD",
        "outputId": "05622ecd-087c-4af8-c389-2a417102f425"
      },
      "source": [
        "# zeros: 0으로 가득한 배열\n",
        "np.zeros(shape=(2,4), dtype=np.float64)"
      ],
      "execution_count": 3,
      "outputs": [
        {
          "output_type": "execute_result",
          "data": {
            "text/plain": [
              "array([[0., 0., 0., 0.],\n",
              "       [0., 0., 0., 0.]])"
            ]
          },
          "metadata": {},
          "execution_count": 3
        }
      ]
    },
    {
      "cell_type": "code",
      "metadata": {
        "colab": {
          "base_uri": "https://localhost:8080/"
        },
        "id": "UM-gxO-tYaGU",
        "outputId": "d71e3568-9e44-4b20-d820-b1210c95e38a"
      },
      "source": [
        "np.zeros((3,5))"
      ],
      "execution_count": 4,
      "outputs": [
        {
          "output_type": "execute_result",
          "data": {
            "text/plain": [
              "array([[0., 0., 0., 0., 0.],\n",
              "       [0., 0., 0., 0., 0.],\n",
              "       [0., 0., 0., 0., 0.]])"
            ]
          },
          "metadata": {},
          "execution_count": 4
        }
      ]
    },
    {
      "cell_type": "code",
      "metadata": {
        "colab": {
          "base_uri": "https://localhost:8080/"
        },
        "id": "RwcTM1JOYhdf",
        "outputId": "b910af2b-87e1-43ef-f5e2-041ec882ca99"
      },
      "source": [
        "# ones: 1로 가득한 배열\n",
        "np.ones((3, 5))"
      ],
      "execution_count": 5,
      "outputs": [
        {
          "output_type": "execute_result",
          "data": {
            "text/plain": [
              "array([[1., 1., 1., 1., 1.],\n",
              "       [1., 1., 1., 1., 1.],\n",
              "       [1., 1., 1., 1., 1.]])"
            ]
          },
          "metadata": {},
          "execution_count": 5
        }
      ]
    },
    {
      "cell_type": "code",
      "metadata": {
        "colab": {
          "base_uri": "https://localhost:8080/"
        },
        "id": "ORv00YlCYotx",
        "outputId": "dcdb1434-9374-4261-c00e-49c335ae6444"
      },
      "source": [
        "# empty: shape만 주어지고 비어있는 ndarray 생성.\n",
        "# 즉, 값 초기화가 이뤄지지 않음\n",
        "np.empty((3,4))"
      ],
      "execution_count": 6,
      "outputs": [
        {
          "output_type": "execute_result",
          "data": {
            "text/plain": [
              "array([[4.68764445e-310, 0.00000000e+000, 0.00000000e+000,\n",
              "        0.00000000e+000],\n",
              "       [0.00000000e+000, 0.00000000e+000, 0.00000000e+000,\n",
              "        0.00000000e+000],\n",
              "       [0.00000000e+000, 0.00000000e+000, 0.00000000e+000,\n",
              "        0.00000000e+000]])"
            ]
          },
          "metadata": {},
          "execution_count": 6
        }
      ]
    },
    {
      "cell_type": "code",
      "metadata": {
        "colab": {
          "base_uri": "https://localhost:8080/"
        },
        "id": "cyefZiPPY1aQ",
        "outputId": "49de4cb4-ea7a-4dd6-d394-d00cce69ad1e"
      },
      "source": [
        "# zeros_like, ones_like: 대상과 똑같은 shape의 0또는1 배열 생성\n",
        "a = np.arange(30).reshape(5, -1)\n",
        "np.ones_like(a)"
      ],
      "execution_count": 7,
      "outputs": [
        {
          "output_type": "execute_result",
          "data": {
            "text/plain": [
              "array([[1, 1, 1, 1, 1, 1],\n",
              "       [1, 1, 1, 1, 1, 1],\n",
              "       [1, 1, 1, 1, 1, 1],\n",
              "       [1, 1, 1, 1, 1, 1],\n",
              "       [1, 1, 1, 1, 1, 1]])"
            ]
          },
          "metadata": {},
          "execution_count": 7
        }
      ]
    },
    {
      "cell_type": "code",
      "metadata": {
        "colab": {
          "base_uri": "https://localhost:8080/"
        },
        "id": "0tNHufJmZQbz",
        "outputId": "f6771465-0160-48ff-e14d-3ee315032ba8"
      },
      "source": [
        "# identity: 단일 행렬을 생성한다\n",
        "np.identity(n=3, dtype=np.float64)"
      ],
      "execution_count": 8,
      "outputs": [
        {
          "output_type": "execute_result",
          "data": {
            "text/plain": [
              "array([[1., 0., 0.],\n",
              "       [0., 1., 0.],\n",
              "       [0., 0., 1.]])"
            ]
          },
          "metadata": {},
          "execution_count": 8
        }
      ]
    },
    {
      "cell_type": "code",
      "metadata": {
        "colab": {
          "base_uri": "https://localhost:8080/"
        },
        "id": "KXDmmD96Z9YO",
        "outputId": "7c7c10c4-7cda-413c-a80b-3b7f03652633"
      },
      "source": [
        "# eye: 단위행렬의 시작과 끝을 정할 수 있다.\n",
        "np.eye(3)"
      ],
      "execution_count": 9,
      "outputs": [
        {
          "output_type": "execute_result",
          "data": {
            "text/plain": [
              "array([[1., 0., 0.],\n",
              "       [0., 1., 0.],\n",
              "       [0., 0., 1.]])"
            ]
          },
          "metadata": {},
          "execution_count": 9
        }
      ]
    },
    {
      "cell_type": "code",
      "metadata": {
        "colab": {
          "base_uri": "https://localhost:8080/"
        },
        "id": "FAtq06nYaLCU",
        "outputId": "f15dcd1e-d637-4f28-c8f5-2559da52d70c"
      },
      "source": [
        "np.eye(3, 5, k=2)"
      ],
      "execution_count": 10,
      "outputs": [
        {
          "output_type": "execute_result",
          "data": {
            "text/plain": [
              "array([[0., 0., 1., 0., 0.],\n",
              "       [0., 0., 0., 1., 0.],\n",
              "       [0., 0., 0., 0., 1.]])"
            ]
          },
          "metadata": {},
          "execution_count": 10
        }
      ]
    },
    {
      "cell_type": "code",
      "metadata": {
        "colab": {
          "base_uri": "https://localhost:8080/"
        },
        "id": "wQyfirBZaNi1",
        "outputId": "30359f18-54c7-4fad-ef03-d761580b6734"
      },
      "source": [
        "np.eye(3, 5)"
      ],
      "execution_count": 11,
      "outputs": [
        {
          "output_type": "execute_result",
          "data": {
            "text/plain": [
              "array([[1., 0., 0., 0., 0.],\n",
              "       [0., 1., 0., 0., 0.],\n",
              "       [0., 0., 1., 0., 0.]])"
            ]
          },
          "metadata": {},
          "execution_count": 11
        }
      ]
    },
    {
      "cell_type": "code",
      "metadata": {
        "colab": {
          "base_uri": "https://localhost:8080/"
        },
        "id": "BfYNvaDvaTXn",
        "outputId": "119fbb06-cfb5-43fc-f1ec-d891c55e54ff"
      },
      "source": [
        "# diag: 대각행렬의 값을 추출함\n",
        "a = np.arange(9).reshape(3, -1)\n",
        "np.diag(a)"
      ],
      "execution_count": 12,
      "outputs": [
        {
          "output_type": "execute_result",
          "data": {
            "text/plain": [
              "array([0, 4, 8])"
            ]
          },
          "metadata": {},
          "execution_count": 12
        }
      ]
    },
    {
      "cell_type": "code",
      "metadata": {
        "colab": {
          "base_uri": "https://localhost:8080/"
        },
        "id": "c0ErYWYAbKNQ",
        "outputId": "80adce23-36eb-4047-b033-835b2fc4a0ad"
      },
      "source": [
        "np.diag(a, k=1)"
      ],
      "execution_count": 13,
      "outputs": [
        {
          "output_type": "execute_result",
          "data": {
            "text/plain": [
              "array([1, 5])"
            ]
          },
          "metadata": {},
          "execution_count": 13
        }
      ]
    },
    {
      "cell_type": "code",
      "metadata": {
        "colab": {
          "base_uri": "https://localhost:8080/"
        },
        "id": "SlzKwJ27bNrp",
        "outputId": "0f0de28e-319a-42c9-d09f-3cd16294c71b"
      },
      "source": [
        "# random: 데이터 분표에따른 sampling으로 array 생성\n",
        "np.random.uniform(0,1,10) # 균등분포"
      ],
      "execution_count": 14,
      "outputs": [
        {
          "output_type": "execute_result",
          "data": {
            "text/plain": [
              "array([0.09925271, 0.07811219, 0.47303934, 0.84819188, 0.99964127,\n",
              "       0.5909238 , 0.13822658, 0.83783572, 0.24054357, 0.60649322])"
            ]
          },
          "metadata": {},
          "execution_count": 14
        }
      ]
    },
    {
      "cell_type": "code",
      "metadata": {
        "colab": {
          "base_uri": "https://localhost:8080/"
        },
        "id": "8u7Dwr9Nb8pP",
        "outputId": "aaeab198-fde2-40a3-d3e1-51e05ce73b73"
      },
      "source": [
        "np.random.normal(0,1,10) # 정규분포"
      ],
      "execution_count": 15,
      "outputs": [
        {
          "output_type": "execute_result",
          "data": {
            "text/plain": [
              "array([-0.40422565, -0.02237123, -0.09016677,  1.72024313, -2.5908967 ,\n",
              "        0.36685329, -0.83249733, -0.03244029, -0.69403964,  0.83494625])"
            ]
          },
          "metadata": {},
          "execution_count": 15
        }
      ]
    },
    {
      "cell_type": "code",
      "metadata": {
        "id": "c7TZHSskcEnB"
      },
      "source": [
        ""
      ],
      "execution_count": null,
      "outputs": []
    },
    {
      "cell_type": "markdown",
      "metadata": {
        "id": "T_EMp7Srcla6"
      },
      "source": [
        "### array 계산"
      ]
    },
    {
      "cell_type": "code",
      "metadata": {
        "colab": {
          "base_uri": "https://localhost:8080/"
        },
        "id": "xB_JN1-vcoRK",
        "outputId": "6a417393-6bae-4254-ec33-b52a04d4bda8"
      },
      "source": [
        "# sum, mean, std를 이용해 계산값을 구할 수 있다.\n",
        "a = np.arange(30).reshape(5, -1)\n",
        "a"
      ],
      "execution_count": 18,
      "outputs": [
        {
          "output_type": "execute_result",
          "data": {
            "text/plain": [
              "array([[ 0,  1,  2,  3,  4,  5],\n",
              "       [ 6,  7,  8,  9, 10, 11],\n",
              "       [12, 13, 14, 15, 16, 17],\n",
              "       [18, 19, 20, 21, 22, 23],\n",
              "       [24, 25, 26, 27, 28, 29]])"
            ]
          },
          "metadata": {},
          "execution_count": 18
        }
      ]
    },
    {
      "cell_type": "code",
      "metadata": {
        "colab": {
          "base_uri": "https://localhost:8080/"
        },
        "id": "ZlrzlGY2g8jA",
        "outputId": "5afa5fdb-16e2-47b0-9ec6-bdd29f35b845"
      },
      "source": [
        "a.sum()"
      ],
      "execution_count": 19,
      "outputs": [
        {
          "output_type": "execute_result",
          "data": {
            "text/plain": [
              "435"
            ]
          },
          "metadata": {},
          "execution_count": 19
        }
      ]
    },
    {
      "cell_type": "code",
      "metadata": {
        "colab": {
          "base_uri": "https://localhost:8080/"
        },
        "id": "3L1LBj8dhDar",
        "outputId": "2f586905-48cf-4ba6-b36b-43413f7d481d"
      },
      "source": [
        "# axis는 중심선 방향을 뜻한다. 이는 index 방향과 같다\n",
        "a.sum(axis=0) # row방향"
      ],
      "execution_count": 20,
      "outputs": [
        {
          "output_type": "execute_result",
          "data": {
            "text/plain": [
              "array([60, 65, 70, 75, 80, 85])"
            ]
          },
          "metadata": {},
          "execution_count": 20
        }
      ]
    },
    {
      "cell_type": "code",
      "metadata": {
        "colab": {
          "base_uri": "https://localhost:8080/"
        },
        "id": "i3qMkmyXhN1Y",
        "outputId": "497cd024-8375-4be8-f5b6-a4a5793b1c6d"
      },
      "source": [
        "a.sum(axis=1)"
      ],
      "execution_count": 21,
      "outputs": [
        {
          "output_type": "execute_result",
          "data": {
            "text/plain": [
              "array([ 15,  51,  87, 123, 159])"
            ]
          },
          "metadata": {},
          "execution_count": 21
        }
      ]
    },
    {
      "cell_type": "code",
      "metadata": {
        "colab": {
          "base_uri": "https://localhost:8080/"
        },
        "id": "DqeajyzvhPfo",
        "outputId": "f8af7af6-8e87-4a34-a623-64969f359282"
      },
      "source": [
        "a.mean()"
      ],
      "execution_count": 22,
      "outputs": [
        {
          "output_type": "execute_result",
          "data": {
            "text/plain": [
              "14.5"
            ]
          },
          "metadata": {},
          "execution_count": 22
        }
      ]
    },
    {
      "cell_type": "code",
      "metadata": {
        "colab": {
          "base_uri": "https://localhost:8080/"
        },
        "id": "7mGZ6ty5hiao",
        "outputId": "a005e9ba-6518-4699-d509-92f2de31ceed"
      },
      "source": [
        "a.std()"
      ],
      "execution_count": 23,
      "outputs": [
        {
          "output_type": "execute_result",
          "data": {
            "text/plain": [
              "8.65544144839919"
            ]
          },
          "metadata": {},
          "execution_count": 23
        }
      ]
    },
    {
      "cell_type": "markdown",
      "metadata": {
        "id": "AF4z5cWSht1d"
      },
      "source": [
        "### concatenate"
      ]
    },
    {
      "cell_type": "code",
      "metadata": {
        "colab": {
          "base_uri": "https://localhost:8080/"
        },
        "id": "-R6T7AoHhkJp",
        "outputId": "be399eab-fc22-4390-d557-be9dc9d6d9e7"
      },
      "source": [
        "# array를 붙이는 가장 쉬운 방법\n",
        "# vstack, hstack\n",
        "a = np.array([1, 2, 3])\n",
        "b = np.array([4, 5, 6])\n",
        "\n",
        "np.vstack((a, b))"
      ],
      "execution_count": 25,
      "outputs": [
        {
          "output_type": "execute_result",
          "data": {
            "text/plain": [
              "array([[1, 2, 3],\n",
              "       [4, 5, 6]])"
            ]
          },
          "metadata": {},
          "execution_count": 25
        }
      ]
    },
    {
      "cell_type": "code",
      "metadata": {
        "colab": {
          "base_uri": "https://localhost:8080/"
        },
        "id": "AraIUGbliR_t",
        "outputId": "ae36027e-05da-485f-a14f-d76ff4f66022"
      },
      "source": [
        "np.vstack((a, b, a))"
      ],
      "execution_count": 26,
      "outputs": [
        {
          "output_type": "execute_result",
          "data": {
            "text/plain": [
              "array([[1, 2, 3],\n",
              "       [4, 5, 6],\n",
              "       [1, 2, 3]])"
            ]
          },
          "metadata": {},
          "execution_count": 26
        }
      ]
    },
    {
      "cell_type": "code",
      "metadata": {
        "colab": {
          "base_uri": "https://localhost:8080/"
        },
        "id": "2ynbvN7jiWFn",
        "outputId": "de261948-1e3c-4a30-acdd-c08c9b92dfa3"
      },
      "source": [
        "np.hstack((a, b))"
      ],
      "execution_count": 27,
      "outputs": [
        {
          "output_type": "execute_result",
          "data": {
            "text/plain": [
              "array([1, 2, 3, 4, 5, 6])"
            ]
          },
          "metadata": {},
          "execution_count": 27
        }
      ]
    },
    {
      "cell_type": "code",
      "metadata": {
        "colab": {
          "base_uri": "https://localhost:8080/"
        },
        "id": "0MmO-Y2oiar4",
        "outputId": "e80bdae1-e698-465e-ea74-743ddf580778"
      },
      "source": [
        "# concatenate와 axis를 이용해 같은 기능을 만들 수 있다.\n",
        "np.concatenate((a, b), axis=0)"
      ],
      "execution_count": 28,
      "outputs": [
        {
          "output_type": "execute_result",
          "data": {
            "text/plain": [
              "array([1, 2, 3, 4, 5, 6])"
            ]
          },
          "metadata": {},
          "execution_count": 28
        }
      ]
    },
    {
      "cell_type": "markdown",
      "metadata": {
        "id": "YZtGo5ptjbzn"
      },
      "source": [
        "### operation"
      ]
    },
    {
      "cell_type": "code",
      "metadata": {
        "colab": {
          "base_uri": "https://localhost:8080/"
        },
        "id": "UTsl1YQBisLg",
        "outputId": "9470fd55-cb22-4627-f27b-655cd387159a"
      },
      "source": [
        "# element-wise operations 같은 모양의 array에서는 각 요소간의 연산이 발생한다.\n",
        "a * b"
      ],
      "execution_count": 33,
      "outputs": [
        {
          "output_type": "execute_result",
          "data": {
            "text/plain": [
              "array([ 4, 10, 18])"
            ]
          },
          "metadata": {},
          "execution_count": 33
        }
      ]
    },
    {
      "cell_type": "code",
      "metadata": {
        "colab": {
          "base_uri": "https://localhost:8080/"
        },
        "id": "Y5QUvGHskVSW",
        "outputId": "0276f369-899e-4ee1-b6c3-613b5fc5461c"
      },
      "source": [
        "a + b"
      ],
      "execution_count": 34,
      "outputs": [
        {
          "output_type": "execute_result",
          "data": {
            "text/plain": [
              "array([5, 7, 9])"
            ]
          },
          "metadata": {},
          "execution_count": 34
        }
      ]
    },
    {
      "cell_type": "code",
      "metadata": {
        "colab": {
          "base_uri": "https://localhost:8080/"
        },
        "id": "0chZeJ7OkYhn",
        "outputId": "ea53a2d8-0095-433b-c22a-d03502d95c1d"
      },
      "source": [
        "a + b * a "
      ],
      "execution_count": 35,
      "outputs": [
        {
          "output_type": "execute_result",
          "data": {
            "text/plain": [
              "array([ 5, 12, 21])"
            ]
          },
          "metadata": {},
          "execution_count": 35
        }
      ]
    },
    {
      "cell_type": "code",
      "metadata": {
        "colab": {
          "base_uri": "https://localhost:8080/"
        },
        "id": "qu_-P_Jqkmf1",
        "outputId": "808702d6-b5cf-42de-8ed1-d1d08777e471"
      },
      "source": [
        "(a + b) * a"
      ],
      "execution_count": 36,
      "outputs": [
        {
          "output_type": "execute_result",
          "data": {
            "text/plain": [
              "array([ 5, 14, 27])"
            ]
          },
          "metadata": {},
          "execution_count": 36
        }
      ]
    },
    {
      "cell_type": "code",
      "metadata": {
        "colab": {
          "base_uri": "https://localhost:8080/"
        },
        "id": "OQ2uy8BLky3T",
        "outputId": "a2f8b1df-8a30-469f-d3d8-e32ee2cc5c2e"
      },
      "source": [
        "a + (b * a)"
      ],
      "execution_count": 37,
      "outputs": [
        {
          "output_type": "execute_result",
          "data": {
            "text/plain": [
              "array([ 5, 12, 21])"
            ]
          },
          "metadata": {},
          "execution_count": 37
        }
      ]
    },
    {
      "cell_type": "markdown",
      "metadata": {
        "id": "E9yR5AFfrr0l"
      },
      "source": [
        "### dot product"
      ]
    },
    {
      "cell_type": "code",
      "metadata": {
        "id": "HyumrSAHk1R0"
      },
      "source": [
        "a = np.arange(1, 7).reshape(2, 3)\n",
        "b = np.arange(7, 13).reshape(3, 2)"
      ],
      "execution_count": 39,
      "outputs": []
    },
    {
      "cell_type": "code",
      "metadata": {
        "colab": {
          "base_uri": "https://localhost:8080/"
        },
        "id": "kUeOVcrzr3UL",
        "outputId": "c42533c3-1f23-4cf5-9120-07a05661b325"
      },
      "source": [
        "a"
      ],
      "execution_count": 40,
      "outputs": [
        {
          "output_type": "execute_result",
          "data": {
            "text/plain": [
              "array([[1, 2, 3],\n",
              "       [4, 5, 6]])"
            ]
          },
          "metadata": {},
          "execution_count": 40
        }
      ]
    },
    {
      "cell_type": "code",
      "metadata": {
        "colab": {
          "base_uri": "https://localhost:8080/"
        },
        "id": "rhcwHCzNr61P",
        "outputId": "aa11baeb-628a-41e6-930d-987dbb938ff2"
      },
      "source": [
        "b"
      ],
      "execution_count": 41,
      "outputs": [
        {
          "output_type": "execute_result",
          "data": {
            "text/plain": [
              "array([[ 7,  8],\n",
              "       [ 9, 10],\n",
              "       [11, 12]])"
            ]
          },
          "metadata": {},
          "execution_count": 41
        }
      ]
    },
    {
      "cell_type": "code",
      "metadata": {
        "colab": {
          "base_uri": "https://localhost:8080/"
        },
        "id": "13G_-b-Pr7HH",
        "outputId": "e69a3ce5-b7c8-47b2-f955-eae23be06931"
      },
      "source": [
        "a.dot(b)"
      ],
      "execution_count": 42,
      "outputs": [
        {
          "output_type": "execute_result",
          "data": {
            "text/plain": [
              "array([[ 58,  64],\n",
              "       [139, 154]])"
            ]
          },
          "metadata": {},
          "execution_count": 42
        }
      ]
    },
    {
      "cell_type": "markdown",
      "metadata": {
        "id": "r7SHVicUsOOi"
      },
      "source": [
        "### transpose"
      ]
    },
    {
      "cell_type": "code",
      "metadata": {
        "colab": {
          "base_uri": "https://localhost:8080/"
        },
        "id": "XQCoJVVar-6h",
        "outputId": "b7037567-6306-41ef-9940-6b94a0416927"
      },
      "source": [
        "a.T"
      ],
      "execution_count": 43,
      "outputs": [
        {
          "output_type": "execute_result",
          "data": {
            "text/plain": [
              "array([[1, 4],\n",
              "       [2, 5],\n",
              "       [3, 6]])"
            ]
          },
          "metadata": {},
          "execution_count": 43
        }
      ]
    },
    {
      "cell_type": "markdown",
      "metadata": {
        "id": "MRUhtPlhsjoL"
      },
      "source": [
        "### broadcasting"
      ]
    },
    {
      "cell_type": "code",
      "metadata": {
        "colab": {
          "base_uri": "https://localhost:8080/"
        },
        "id": "HLIEVe7Is7z3",
        "outputId": "9a34e6ec-8313-4c5b-ea28-62fb90dd6297"
      },
      "source": [
        "a"
      ],
      "execution_count": 47,
      "outputs": [
        {
          "output_type": "execute_result",
          "data": {
            "text/plain": [
              "array([[1, 2, 3],\n",
              "       [4, 5, 6]])"
            ]
          },
          "metadata": {},
          "execution_count": 47
        }
      ]
    },
    {
      "cell_type": "code",
      "metadata": {
        "colab": {
          "base_uri": "https://localhost:8080/"
        },
        "id": "1qJwp1aEsQAR",
        "outputId": "5ce6349e-4386-4a55-a82b-7fb5a47edcb7"
      },
      "source": [
        "# matrix와 scalar 값의 연산은 전체 요소에 연산을 해준다.\n",
        "a +3"
      ],
      "execution_count": 44,
      "outputs": [
        {
          "output_type": "execute_result",
          "data": {
            "text/plain": [
              "array([[4, 5, 6],\n",
              "       [7, 8, 9]])"
            ]
          },
          "metadata": {},
          "execution_count": 44
        }
      ]
    },
    {
      "cell_type": "code",
      "metadata": {
        "colab": {
          "base_uri": "https://localhost:8080/"
        },
        "id": "Ig9hXaxEsoxc",
        "outputId": "91e66fa3-3851-405a-84f1-fc93457bcd81"
      },
      "source": [
        "a ** 2"
      ],
      "execution_count": 45,
      "outputs": [
        {
          "output_type": "execute_result",
          "data": {
            "text/plain": [
              "array([[ 1,  4,  9],\n",
              "       [16, 25, 36]])"
            ]
          },
          "metadata": {},
          "execution_count": 45
        }
      ]
    },
    {
      "cell_type": "code",
      "metadata": {
        "colab": {
          "base_uri": "https://localhost:8080/"
        },
        "id": "jT-WqU8LsrDl",
        "outputId": "5a1c75ae-26a0-4ad2-992c-fea5e5a5936b"
      },
      "source": [
        "# matrix와 vector 값의 연산은 vector를 맞춰서 요소에 연산을 해준다.\n",
        "a ** np.array([1, 2, 3])"
      ],
      "execution_count": 46,
      "outputs": [
        {
          "output_type": "execute_result",
          "data": {
            "text/plain": [
              "array([[  1,   4,  27],\n",
              "       [  4,  25, 216]])"
            ]
          },
          "metadata": {},
          "execution_count": 46
        }
      ]
    },
    {
      "cell_type": "markdown",
      "metadata": {
        "id": "2aXulDzFtkMh"
      },
      "source": [
        "### comparisons"
      ]
    },
    {
      "cell_type": "code",
      "metadata": {
        "colab": {
          "base_uri": "https://localhost:8080/"
        },
        "id": "LYKX-2-ys5Fj",
        "outputId": "4c45f3f6-31e7-45b5-a787-82c72cd0406f"
      },
      "source": [
        "a = np.arange(10)\n",
        "a"
      ],
      "execution_count": 49,
      "outputs": [
        {
          "output_type": "execute_result",
          "data": {
            "text/plain": [
              "array([0, 1, 2, 3, 4, 5, 6, 7, 8, 9])"
            ]
          },
          "metadata": {},
          "execution_count": 49
        }
      ]
    },
    {
      "cell_type": "code",
      "metadata": {
        "colab": {
          "base_uri": "https://localhost:8080/"
        },
        "id": "iuHR95_3vmou",
        "outputId": "9bb417af-d312-4f4a-b4a3-466b297a4ee9"
      },
      "source": [
        "a < 4"
      ],
      "execution_count": 50,
      "outputs": [
        {
          "output_type": "execute_result",
          "data": {
            "text/plain": [
              "array([ True,  True,  True,  True, False, False, False, False, False,\n",
              "       False])"
            ]
          },
          "metadata": {},
          "execution_count": 50
        }
      ]
    },
    {
      "cell_type": "code",
      "metadata": {
        "colab": {
          "base_uri": "https://localhost:8080/"
        },
        "id": "GeXZfP73vrQI",
        "outputId": "d7e29b75-2bcd-4634-b4de-1797aa6e41d7"
      },
      "source": [
        "np.all(a < 4) # 모두가 true면 true"
      ],
      "execution_count": 56,
      "outputs": [
        {
          "output_type": "execute_result",
          "data": {
            "text/plain": [
              "False"
            ]
          },
          "metadata": {},
          "execution_count": 56
        }
      ]
    },
    {
      "cell_type": "code",
      "metadata": {
        "colab": {
          "base_uri": "https://localhost:8080/"
        },
        "id": "Fe5bl-j_v8JX",
        "outputId": "a2c523e1-3f78-4799-da20-282d5dd683eb"
      },
      "source": [
        "np.all(a < 9999)"
      ],
      "execution_count": 57,
      "outputs": [
        {
          "output_type": "execute_result",
          "data": {
            "text/plain": [
              "True"
            ]
          },
          "metadata": {},
          "execution_count": 57
        }
      ]
    },
    {
      "cell_type": "code",
      "metadata": {
        "colab": {
          "base_uri": "https://localhost:8080/"
        },
        "id": "j-ekcYflvvz6",
        "outputId": "9f9df982-cb5d-440b-d86a-b11a585c3d5c"
      },
      "source": [
        "np.any(a < 4) # 하나라도 true면 true"
      ],
      "execution_count": 54,
      "outputs": [
        {
          "output_type": "execute_result",
          "data": {
            "text/plain": [
              "True"
            ]
          },
          "metadata": {},
          "execution_count": 54
        }
      ]
    },
    {
      "cell_type": "code",
      "metadata": {
        "colab": {
          "base_uri": "https://localhost:8080/"
        },
        "id": "0FrGzAS9v6PW",
        "outputId": "9b135a47-7f48-4774-fdc7-25284fc80869"
      },
      "source": [
        "# 두개 이상의 연산\n",
        "np.logical_and(a > 0, a < 3)"
      ],
      "execution_count": 58,
      "outputs": [
        {
          "output_type": "execute_result",
          "data": {
            "text/plain": [
              "array([False,  True,  True, False, False, False, False, False, False,\n",
              "       False])"
            ]
          },
          "metadata": {},
          "execution_count": 58
        }
      ]
    },
    {
      "cell_type": "code",
      "metadata": {
        "colab": {
          "base_uri": "https://localhost:8080/"
        },
        "id": "y4tqgcaQw2Do",
        "outputId": "efe9ed66-6fe6-42ee-d6f4-352038dc2211"
      },
      "source": [
        "# where 연산\n",
        "np.where(a > 3, 3, -1) # 조건문, True경우값, False경우값"
      ],
      "execution_count": 59,
      "outputs": [
        {
          "output_type": "execute_result",
          "data": {
            "text/plain": [
              "array([-1, -1, -1, -1,  3,  3,  3,  3,  3,  3])"
            ]
          },
          "metadata": {},
          "execution_count": 59
        }
      ]
    },
    {
      "cell_type": "code",
      "metadata": {
        "colab": {
          "base_uri": "https://localhost:8080/"
        },
        "id": "Zp0urW0E6tF6",
        "outputId": "1a94bdfe-661a-4390-c2f5-55e84a8317cf"
      },
      "source": [
        "np.where(a > 3) # True경우의 index 반환"
      ],
      "execution_count": 60,
      "outputs": [
        {
          "output_type": "execute_result",
          "data": {
            "text/plain": [
              "(array([4, 5, 6, 7, 8, 9]),)"
            ]
          },
          "metadata": {},
          "execution_count": 60
        }
      ]
    },
    {
      "cell_type": "code",
      "metadata": {
        "colab": {
          "base_uri": "https://localhost:8080/"
        },
        "id": "DJic2lah64IG",
        "outputId": "087cc594-8ffb-4f67-eae4-def2099e0aa5"
      },
      "source": [
        "# array내 최대 최소값 구하기\n",
        "a = np.array([1, 5, 9, 54, 2, -5])\n",
        "a"
      ],
      "execution_count": 61,
      "outputs": [
        {
          "output_type": "execute_result",
          "data": {
            "text/plain": [
              "array([ 1,  5,  9, 54,  2, -5])"
            ]
          },
          "metadata": {},
          "execution_count": 61
        }
      ]
    },
    {
      "cell_type": "code",
      "metadata": {
        "colab": {
          "base_uri": "https://localhost:8080/"
        },
        "id": "VnJT32HS8AVO",
        "outputId": "6669b8e1-84d0-405b-e66c-07db5e91e6e3"
      },
      "source": [
        "# 최대값의 index\n",
        "a.argmax()"
      ],
      "execution_count": 62,
      "outputs": [
        {
          "output_type": "execute_result",
          "data": {
            "text/plain": [
              "3"
            ]
          },
          "metadata": {},
          "execution_count": 62
        }
      ]
    },
    {
      "cell_type": "code",
      "metadata": {
        "colab": {
          "base_uri": "https://localhost:8080/"
        },
        "id": "5IcicCng8Fb4",
        "outputId": "80da2629-8182-46d4-b24c-8cc75d2fd0a3"
      },
      "source": [
        "np.argmax(a)"
      ],
      "execution_count": 63,
      "outputs": [
        {
          "output_type": "execute_result",
          "data": {
            "text/plain": [
              "3"
            ]
          },
          "metadata": {},
          "execution_count": 63
        }
      ]
    },
    {
      "cell_type": "code",
      "metadata": {
        "colab": {
          "base_uri": "https://localhost:8080/"
        },
        "id": "Lw3JfTp38IGB",
        "outputId": "90f42dd3-ec1c-4cf5-e784-19b3eef8d2be"
      },
      "source": [
        "np.argmin(a)"
      ],
      "execution_count": 64,
      "outputs": [
        {
          "output_type": "execute_result",
          "data": {
            "text/plain": [
              "5"
            ]
          },
          "metadata": {},
          "execution_count": 64
        }
      ]
    },
    {
      "cell_type": "code",
      "metadata": {
        "colab": {
          "base_uri": "https://localhost:8080/"
        },
        "id": "DDrUGJP_8MXL",
        "outputId": "0c4daa52-edfc-438e-851f-de7aa0f1bed6"
      },
      "source": [
        "a.argsort()"
      ],
      "execution_count": 65,
      "outputs": [
        {
          "output_type": "execute_result",
          "data": {
            "text/plain": [
              "array([5, 0, 4, 1, 2, 3])"
            ]
          },
          "metadata": {},
          "execution_count": 65
        }
      ]
    },
    {
      "cell_type": "code",
      "metadata": {
        "colab": {
          "base_uri": "https://localhost:8080/"
        },
        "id": "Bt5JuLa78b-6",
        "outputId": "13c95206-d9c8-40f6-be09-7f48ba6df75f"
      },
      "source": [
        "a.argsort()[-1]"
      ],
      "execution_count": 66,
      "outputs": [
        {
          "output_type": "execute_result",
          "data": {
            "text/plain": [
              "3"
            ]
          },
          "metadata": {},
          "execution_count": 66
        }
      ]
    },
    {
      "cell_type": "markdown",
      "metadata": {
        "id": "ndBfReh69_d8"
      },
      "source": [
        "### numpy 읽기 & 저장(추출)"
      ]
    },
    {
      "cell_type": "code",
      "metadata": {
        "id": "mj8RXRaT8eOS"
      },
      "source": [
        "a = np.loadtxt(\"./파일명.txt\", delimiter=\"\\t\")"
      ],
      "execution_count": null,
      "outputs": []
    },
    {
      "cell_type": "code",
      "metadata": {
        "id": "5U9Bd-0s-QSZ"
      },
      "source": [
        "np.savetxt(\"파일명.csv\", arr, fmt=\"%.2\", delimiter=\",\") # csv 형태로 저장, 소수점2자리까지"
      ],
      "execution_count": null,
      "outputs": []
    },
    {
      "cell_type": "code",
      "metadata": {
        "id": "ByvnZePx-1Qk"
      },
      "source": [
        "np.save(\"파일명\", arr) # 피클형태로 저장"
      ],
      "execution_count": null,
      "outputs": []
    },
    {
      "cell_type": "code",
      "metadata": {
        "id": "6liYtr-0_GzD"
      },
      "source": [
        "a = np.load(file=\"파일명.npy\") # 객체 불러오기"
      ],
      "execution_count": null,
      "outputs": []
    }
  ]
}