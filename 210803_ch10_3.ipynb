{
  "nbformat": 4,
  "nbformat_minor": 0,
  "metadata": {
    "colab": {
      "name": "210803_ch10-3.ipynb",
      "provenance": [],
      "collapsed_sections": [],
      "authorship_tag": "ABX9TyMMx5GnjG1/Ey8gwgTuVQga",
      "include_colab_link": true
    },
    "kernelspec": {
      "name": "python3",
      "display_name": "Python 3"
    },
    "language_info": {
      "name": "python"
    },
    "accelerator": "GPU",
    "widgets": {
      "application/vnd.jupyter.widget-state+json": {
        "dc8ebfd386a64943aa6a805cd099810a": {
          "model_module": "@jupyter-widgets/controls",
          "model_name": "HBoxModel",
          "state": {
            "_view_name": "HBoxView",
            "_dom_classes": [],
            "_model_name": "HBoxModel",
            "_view_module": "@jupyter-widgets/controls",
            "_model_module_version": "1.5.0",
            "_view_count": null,
            "_view_module_version": "1.5.0",
            "box_style": "",
            "layout": "IPY_MODEL_685c22dcb1eb431db015db4c9662d039",
            "_model_module": "@jupyter-widgets/controls",
            "children": [
              "IPY_MODEL_3ae3e0d64b0842199191edb47bc2adb5",
              "IPY_MODEL_f3f67099e01a47809a9998c4a99efa4d"
            ]
          }
        },
        "685c22dcb1eb431db015db4c9662d039": {
          "model_module": "@jupyter-widgets/base",
          "model_name": "LayoutModel",
          "state": {
            "_view_name": "LayoutView",
            "grid_template_rows": null,
            "right": null,
            "justify_content": null,
            "_view_module": "@jupyter-widgets/base",
            "overflow": null,
            "_model_module_version": "1.2.0",
            "_view_count": null,
            "flex_flow": null,
            "width": null,
            "min_width": null,
            "border": null,
            "align_items": null,
            "bottom": null,
            "_model_module": "@jupyter-widgets/base",
            "top": null,
            "grid_column": null,
            "overflow_y": null,
            "overflow_x": null,
            "grid_auto_flow": null,
            "grid_area": null,
            "grid_template_columns": null,
            "flex": null,
            "_model_name": "LayoutModel",
            "justify_items": null,
            "grid_row": null,
            "max_height": null,
            "align_content": null,
            "visibility": null,
            "align_self": null,
            "height": null,
            "min_height": null,
            "padding": null,
            "grid_auto_rows": null,
            "grid_gap": null,
            "max_width": null,
            "order": null,
            "_view_module_version": "1.2.0",
            "grid_template_areas": null,
            "object_position": null,
            "object_fit": null,
            "grid_auto_columns": null,
            "margin": null,
            "display": null,
            "left": null
          }
        },
        "3ae3e0d64b0842199191edb47bc2adb5": {
          "model_module": "@jupyter-widgets/controls",
          "model_name": "FloatProgressModel",
          "state": {
            "_view_name": "ProgressView",
            "style": "IPY_MODEL_aa365342614b4b3b82137904b0cd344d",
            "_dom_classes": [],
            "description": "",
            "_model_name": "FloatProgressModel",
            "bar_style": "success",
            "max": 9912422,
            "_view_module": "@jupyter-widgets/controls",
            "_model_module_version": "1.5.0",
            "value": 9912422,
            "_view_count": null,
            "_view_module_version": "1.5.0",
            "orientation": "horizontal",
            "min": 0,
            "description_tooltip": null,
            "_model_module": "@jupyter-widgets/controls",
            "layout": "IPY_MODEL_71a010e27a8a4d76a9e50e5efcd243e7"
          }
        },
        "f3f67099e01a47809a9998c4a99efa4d": {
          "model_module": "@jupyter-widgets/controls",
          "model_name": "HTMLModel",
          "state": {
            "_view_name": "HTMLView",
            "style": "IPY_MODEL_ccb7ee1a34bd42baafcd78d29c361df9",
            "_dom_classes": [],
            "description": "",
            "_model_name": "HTMLModel",
            "placeholder": "​",
            "_view_module": "@jupyter-widgets/controls",
            "_model_module_version": "1.5.0",
            "value": " 9913344/? [00:01&lt;00:00, 7222276.66it/s]",
            "_view_count": null,
            "_view_module_version": "1.5.0",
            "description_tooltip": null,
            "_model_module": "@jupyter-widgets/controls",
            "layout": "IPY_MODEL_d156334c7e78460795084c1c3fe7ae31"
          }
        },
        "aa365342614b4b3b82137904b0cd344d": {
          "model_module": "@jupyter-widgets/controls",
          "model_name": "ProgressStyleModel",
          "state": {
            "_view_name": "StyleView",
            "_model_name": "ProgressStyleModel",
            "description_width": "initial",
            "_view_module": "@jupyter-widgets/base",
            "_model_module_version": "1.5.0",
            "_view_count": null,
            "_view_module_version": "1.2.0",
            "bar_color": null,
            "_model_module": "@jupyter-widgets/controls"
          }
        },
        "71a010e27a8a4d76a9e50e5efcd243e7": {
          "model_module": "@jupyter-widgets/base",
          "model_name": "LayoutModel",
          "state": {
            "_view_name": "LayoutView",
            "grid_template_rows": null,
            "right": null,
            "justify_content": null,
            "_view_module": "@jupyter-widgets/base",
            "overflow": null,
            "_model_module_version": "1.2.0",
            "_view_count": null,
            "flex_flow": null,
            "width": null,
            "min_width": null,
            "border": null,
            "align_items": null,
            "bottom": null,
            "_model_module": "@jupyter-widgets/base",
            "top": null,
            "grid_column": null,
            "overflow_y": null,
            "overflow_x": null,
            "grid_auto_flow": null,
            "grid_area": null,
            "grid_template_columns": null,
            "flex": null,
            "_model_name": "LayoutModel",
            "justify_items": null,
            "grid_row": null,
            "max_height": null,
            "align_content": null,
            "visibility": null,
            "align_self": null,
            "height": null,
            "min_height": null,
            "padding": null,
            "grid_auto_rows": null,
            "grid_gap": null,
            "max_width": null,
            "order": null,
            "_view_module_version": "1.2.0",
            "grid_template_areas": null,
            "object_position": null,
            "object_fit": null,
            "grid_auto_columns": null,
            "margin": null,
            "display": null,
            "left": null
          }
        },
        "ccb7ee1a34bd42baafcd78d29c361df9": {
          "model_module": "@jupyter-widgets/controls",
          "model_name": "DescriptionStyleModel",
          "state": {
            "_view_name": "StyleView",
            "_model_name": "DescriptionStyleModel",
            "description_width": "",
            "_view_module": "@jupyter-widgets/base",
            "_model_module_version": "1.5.0",
            "_view_count": null,
            "_view_module_version": "1.2.0",
            "_model_module": "@jupyter-widgets/controls"
          }
        },
        "d156334c7e78460795084c1c3fe7ae31": {
          "model_module": "@jupyter-widgets/base",
          "model_name": "LayoutModel",
          "state": {
            "_view_name": "LayoutView",
            "grid_template_rows": null,
            "right": null,
            "justify_content": null,
            "_view_module": "@jupyter-widgets/base",
            "overflow": null,
            "_model_module_version": "1.2.0",
            "_view_count": null,
            "flex_flow": null,
            "width": null,
            "min_width": null,
            "border": null,
            "align_items": null,
            "bottom": null,
            "_model_module": "@jupyter-widgets/base",
            "top": null,
            "grid_column": null,
            "overflow_y": null,
            "overflow_x": null,
            "grid_auto_flow": null,
            "grid_area": null,
            "grid_template_columns": null,
            "flex": null,
            "_model_name": "LayoutModel",
            "justify_items": null,
            "grid_row": null,
            "max_height": null,
            "align_content": null,
            "visibility": null,
            "align_self": null,
            "height": null,
            "min_height": null,
            "padding": null,
            "grid_auto_rows": null,
            "grid_gap": null,
            "max_width": null,
            "order": null,
            "_view_module_version": "1.2.0",
            "grid_template_areas": null,
            "object_position": null,
            "object_fit": null,
            "grid_auto_columns": null,
            "margin": null,
            "display": null,
            "left": null
          }
        },
        "29a47deb8c2848debeda3600b16bd14f": {
          "model_module": "@jupyter-widgets/controls",
          "model_name": "HBoxModel",
          "state": {
            "_view_name": "HBoxView",
            "_dom_classes": [],
            "_model_name": "HBoxModel",
            "_view_module": "@jupyter-widgets/controls",
            "_model_module_version": "1.5.0",
            "_view_count": null,
            "_view_module_version": "1.5.0",
            "box_style": "",
            "layout": "IPY_MODEL_0cee0a14268f41ab9eaaf636411a9917",
            "_model_module": "@jupyter-widgets/controls",
            "children": [
              "IPY_MODEL_b51721f8f51a423c9dd19e5cabf45b98",
              "IPY_MODEL_96dc42e798474575a6cfb0abead03247"
            ]
          }
        },
        "0cee0a14268f41ab9eaaf636411a9917": {
          "model_module": "@jupyter-widgets/base",
          "model_name": "LayoutModel",
          "state": {
            "_view_name": "LayoutView",
            "grid_template_rows": null,
            "right": null,
            "justify_content": null,
            "_view_module": "@jupyter-widgets/base",
            "overflow": null,
            "_model_module_version": "1.2.0",
            "_view_count": null,
            "flex_flow": null,
            "width": null,
            "min_width": null,
            "border": null,
            "align_items": null,
            "bottom": null,
            "_model_module": "@jupyter-widgets/base",
            "top": null,
            "grid_column": null,
            "overflow_y": null,
            "overflow_x": null,
            "grid_auto_flow": null,
            "grid_area": null,
            "grid_template_columns": null,
            "flex": null,
            "_model_name": "LayoutModel",
            "justify_items": null,
            "grid_row": null,
            "max_height": null,
            "align_content": null,
            "visibility": null,
            "align_self": null,
            "height": null,
            "min_height": null,
            "padding": null,
            "grid_auto_rows": null,
            "grid_gap": null,
            "max_width": null,
            "order": null,
            "_view_module_version": "1.2.0",
            "grid_template_areas": null,
            "object_position": null,
            "object_fit": null,
            "grid_auto_columns": null,
            "margin": null,
            "display": null,
            "left": null
          }
        },
        "b51721f8f51a423c9dd19e5cabf45b98": {
          "model_module": "@jupyter-widgets/controls",
          "model_name": "FloatProgressModel",
          "state": {
            "_view_name": "ProgressView",
            "style": "IPY_MODEL_818da2f28f7545119489ec4de8884d56",
            "_dom_classes": [],
            "description": "",
            "_model_name": "FloatProgressModel",
            "bar_style": "success",
            "max": 28881,
            "_view_module": "@jupyter-widgets/controls",
            "_model_module_version": "1.5.0",
            "value": 28881,
            "_view_count": null,
            "_view_module_version": "1.5.0",
            "orientation": "horizontal",
            "min": 0,
            "description_tooltip": null,
            "_model_module": "@jupyter-widgets/controls",
            "layout": "IPY_MODEL_f07b7fc2d5284c23a68b6d8fc913bf69"
          }
        },
        "96dc42e798474575a6cfb0abead03247": {
          "model_module": "@jupyter-widgets/controls",
          "model_name": "HTMLModel",
          "state": {
            "_view_name": "HTMLView",
            "style": "IPY_MODEL_79caddfe561542ceb74a6564e9eb4afc",
            "_dom_classes": [],
            "description": "",
            "_model_name": "HTMLModel",
            "placeholder": "​",
            "_view_module": "@jupyter-widgets/controls",
            "_model_module_version": "1.5.0",
            "value": " 29696/? [00:36&lt;00:00, 822.45it/s]",
            "_view_count": null,
            "_view_module_version": "1.5.0",
            "description_tooltip": null,
            "_model_module": "@jupyter-widgets/controls",
            "layout": "IPY_MODEL_c1b08b02cbef47b69f6e802b942d0e0b"
          }
        },
        "818da2f28f7545119489ec4de8884d56": {
          "model_module": "@jupyter-widgets/controls",
          "model_name": "ProgressStyleModel",
          "state": {
            "_view_name": "StyleView",
            "_model_name": "ProgressStyleModel",
            "description_width": "initial",
            "_view_module": "@jupyter-widgets/base",
            "_model_module_version": "1.5.0",
            "_view_count": null,
            "_view_module_version": "1.2.0",
            "bar_color": null,
            "_model_module": "@jupyter-widgets/controls"
          }
        },
        "f07b7fc2d5284c23a68b6d8fc913bf69": {
          "model_module": "@jupyter-widgets/base",
          "model_name": "LayoutModel",
          "state": {
            "_view_name": "LayoutView",
            "grid_template_rows": null,
            "right": null,
            "justify_content": null,
            "_view_module": "@jupyter-widgets/base",
            "overflow": null,
            "_model_module_version": "1.2.0",
            "_view_count": null,
            "flex_flow": null,
            "width": null,
            "min_width": null,
            "border": null,
            "align_items": null,
            "bottom": null,
            "_model_module": "@jupyter-widgets/base",
            "top": null,
            "grid_column": null,
            "overflow_y": null,
            "overflow_x": null,
            "grid_auto_flow": null,
            "grid_area": null,
            "grid_template_columns": null,
            "flex": null,
            "_model_name": "LayoutModel",
            "justify_items": null,
            "grid_row": null,
            "max_height": null,
            "align_content": null,
            "visibility": null,
            "align_self": null,
            "height": null,
            "min_height": null,
            "padding": null,
            "grid_auto_rows": null,
            "grid_gap": null,
            "max_width": null,
            "order": null,
            "_view_module_version": "1.2.0",
            "grid_template_areas": null,
            "object_position": null,
            "object_fit": null,
            "grid_auto_columns": null,
            "margin": null,
            "display": null,
            "left": null
          }
        },
        "79caddfe561542ceb74a6564e9eb4afc": {
          "model_module": "@jupyter-widgets/controls",
          "model_name": "DescriptionStyleModel",
          "state": {
            "_view_name": "StyleView",
            "_model_name": "DescriptionStyleModel",
            "description_width": "",
            "_view_module": "@jupyter-widgets/base",
            "_model_module_version": "1.5.0",
            "_view_count": null,
            "_view_module_version": "1.2.0",
            "_model_module": "@jupyter-widgets/controls"
          }
        },
        "c1b08b02cbef47b69f6e802b942d0e0b": {
          "model_module": "@jupyter-widgets/base",
          "model_name": "LayoutModel",
          "state": {
            "_view_name": "LayoutView",
            "grid_template_rows": null,
            "right": null,
            "justify_content": null,
            "_view_module": "@jupyter-widgets/base",
            "overflow": null,
            "_model_module_version": "1.2.0",
            "_view_count": null,
            "flex_flow": null,
            "width": null,
            "min_width": null,
            "border": null,
            "align_items": null,
            "bottom": null,
            "_model_module": "@jupyter-widgets/base",
            "top": null,
            "grid_column": null,
            "overflow_y": null,
            "overflow_x": null,
            "grid_auto_flow": null,
            "grid_area": null,
            "grid_template_columns": null,
            "flex": null,
            "_model_name": "LayoutModel",
            "justify_items": null,
            "grid_row": null,
            "max_height": null,
            "align_content": null,
            "visibility": null,
            "align_self": null,
            "height": null,
            "min_height": null,
            "padding": null,
            "grid_auto_rows": null,
            "grid_gap": null,
            "max_width": null,
            "order": null,
            "_view_module_version": "1.2.0",
            "grid_template_areas": null,
            "object_position": null,
            "object_fit": null,
            "grid_auto_columns": null,
            "margin": null,
            "display": null,
            "left": null
          }
        },
        "c8b373fade304f22988d838e2191e41e": {
          "model_module": "@jupyter-widgets/controls",
          "model_name": "HBoxModel",
          "state": {
            "_view_name": "HBoxView",
            "_dom_classes": [],
            "_model_name": "HBoxModel",
            "_view_module": "@jupyter-widgets/controls",
            "_model_module_version": "1.5.0",
            "_view_count": null,
            "_view_module_version": "1.5.0",
            "box_style": "",
            "layout": "IPY_MODEL_3a3cea855fcf4a0bbf6936b3f6bc2433",
            "_model_module": "@jupyter-widgets/controls",
            "children": [
              "IPY_MODEL_504801c181e54e1ea31c29e34355741b",
              "IPY_MODEL_956afd9a8ea74ac980c5dee5e9eb62e2"
            ]
          }
        },
        "3a3cea855fcf4a0bbf6936b3f6bc2433": {
          "model_module": "@jupyter-widgets/base",
          "model_name": "LayoutModel",
          "state": {
            "_view_name": "LayoutView",
            "grid_template_rows": null,
            "right": null,
            "justify_content": null,
            "_view_module": "@jupyter-widgets/base",
            "overflow": null,
            "_model_module_version": "1.2.0",
            "_view_count": null,
            "flex_flow": null,
            "width": null,
            "min_width": null,
            "border": null,
            "align_items": null,
            "bottom": null,
            "_model_module": "@jupyter-widgets/base",
            "top": null,
            "grid_column": null,
            "overflow_y": null,
            "overflow_x": null,
            "grid_auto_flow": null,
            "grid_area": null,
            "grid_template_columns": null,
            "flex": null,
            "_model_name": "LayoutModel",
            "justify_items": null,
            "grid_row": null,
            "max_height": null,
            "align_content": null,
            "visibility": null,
            "align_self": null,
            "height": null,
            "min_height": null,
            "padding": null,
            "grid_auto_rows": null,
            "grid_gap": null,
            "max_width": null,
            "order": null,
            "_view_module_version": "1.2.0",
            "grid_template_areas": null,
            "object_position": null,
            "object_fit": null,
            "grid_auto_columns": null,
            "margin": null,
            "display": null,
            "left": null
          }
        },
        "504801c181e54e1ea31c29e34355741b": {
          "model_module": "@jupyter-widgets/controls",
          "model_name": "FloatProgressModel",
          "state": {
            "_view_name": "ProgressView",
            "style": "IPY_MODEL_d6ea91433f244a7ca9a15fa3476a99b4",
            "_dom_classes": [],
            "description": "",
            "_model_name": "FloatProgressModel",
            "bar_style": "success",
            "max": 1648877,
            "_view_module": "@jupyter-widgets/controls",
            "_model_module_version": "1.5.0",
            "value": 1648877,
            "_view_count": null,
            "_view_module_version": "1.5.0",
            "orientation": "horizontal",
            "min": 0,
            "description_tooltip": null,
            "_model_module": "@jupyter-widgets/controls",
            "layout": "IPY_MODEL_b0887382c2204e178cf1d59756760ae4"
          }
        },
        "956afd9a8ea74ac980c5dee5e9eb62e2": {
          "model_module": "@jupyter-widgets/controls",
          "model_name": "HTMLModel",
          "state": {
            "_view_name": "HTMLView",
            "style": "IPY_MODEL_e3d6849148504b86ae940cbe26d91d92",
            "_dom_classes": [],
            "description": "",
            "_model_name": "HTMLModel",
            "placeholder": "​",
            "_view_module": "@jupyter-widgets/controls",
            "_model_module_version": "1.5.0",
            "value": " 1649664/? [00:00&lt;00:00, 2012190.97it/s]",
            "_view_count": null,
            "_view_module_version": "1.5.0",
            "description_tooltip": null,
            "_model_module": "@jupyter-widgets/controls",
            "layout": "IPY_MODEL_7e429204c66b4910bca82501226e8e3a"
          }
        },
        "d6ea91433f244a7ca9a15fa3476a99b4": {
          "model_module": "@jupyter-widgets/controls",
          "model_name": "ProgressStyleModel",
          "state": {
            "_view_name": "StyleView",
            "_model_name": "ProgressStyleModel",
            "description_width": "initial",
            "_view_module": "@jupyter-widgets/base",
            "_model_module_version": "1.5.0",
            "_view_count": null,
            "_view_module_version": "1.2.0",
            "bar_color": null,
            "_model_module": "@jupyter-widgets/controls"
          }
        },
        "b0887382c2204e178cf1d59756760ae4": {
          "model_module": "@jupyter-widgets/base",
          "model_name": "LayoutModel",
          "state": {
            "_view_name": "LayoutView",
            "grid_template_rows": null,
            "right": null,
            "justify_content": null,
            "_view_module": "@jupyter-widgets/base",
            "overflow": null,
            "_model_module_version": "1.2.0",
            "_view_count": null,
            "flex_flow": null,
            "width": null,
            "min_width": null,
            "border": null,
            "align_items": null,
            "bottom": null,
            "_model_module": "@jupyter-widgets/base",
            "top": null,
            "grid_column": null,
            "overflow_y": null,
            "overflow_x": null,
            "grid_auto_flow": null,
            "grid_area": null,
            "grid_template_columns": null,
            "flex": null,
            "_model_name": "LayoutModel",
            "justify_items": null,
            "grid_row": null,
            "max_height": null,
            "align_content": null,
            "visibility": null,
            "align_self": null,
            "height": null,
            "min_height": null,
            "padding": null,
            "grid_auto_rows": null,
            "grid_gap": null,
            "max_width": null,
            "order": null,
            "_view_module_version": "1.2.0",
            "grid_template_areas": null,
            "object_position": null,
            "object_fit": null,
            "grid_auto_columns": null,
            "margin": null,
            "display": null,
            "left": null
          }
        },
        "e3d6849148504b86ae940cbe26d91d92": {
          "model_module": "@jupyter-widgets/controls",
          "model_name": "DescriptionStyleModel",
          "state": {
            "_view_name": "StyleView",
            "_model_name": "DescriptionStyleModel",
            "description_width": "",
            "_view_module": "@jupyter-widgets/base",
            "_model_module_version": "1.5.0",
            "_view_count": null,
            "_view_module_version": "1.2.0",
            "_model_module": "@jupyter-widgets/controls"
          }
        },
        "7e429204c66b4910bca82501226e8e3a": {
          "model_module": "@jupyter-widgets/base",
          "model_name": "LayoutModel",
          "state": {
            "_view_name": "LayoutView",
            "grid_template_rows": null,
            "right": null,
            "justify_content": null,
            "_view_module": "@jupyter-widgets/base",
            "overflow": null,
            "_model_module_version": "1.2.0",
            "_view_count": null,
            "flex_flow": null,
            "width": null,
            "min_width": null,
            "border": null,
            "align_items": null,
            "bottom": null,
            "_model_module": "@jupyter-widgets/base",
            "top": null,
            "grid_column": null,
            "overflow_y": null,
            "overflow_x": null,
            "grid_auto_flow": null,
            "grid_area": null,
            "grid_template_columns": null,
            "flex": null,
            "_model_name": "LayoutModel",
            "justify_items": null,
            "grid_row": null,
            "max_height": null,
            "align_content": null,
            "visibility": null,
            "align_self": null,
            "height": null,
            "min_height": null,
            "padding": null,
            "grid_auto_rows": null,
            "grid_gap": null,
            "max_width": null,
            "order": null,
            "_view_module_version": "1.2.0",
            "grid_template_areas": null,
            "object_position": null,
            "object_fit": null,
            "grid_auto_columns": null,
            "margin": null,
            "display": null,
            "left": null
          }
        },
        "c2fad5a8480447a9908c89947f232ea8": {
          "model_module": "@jupyter-widgets/controls",
          "model_name": "HBoxModel",
          "state": {
            "_view_name": "HBoxView",
            "_dom_classes": [],
            "_model_name": "HBoxModel",
            "_view_module": "@jupyter-widgets/controls",
            "_model_module_version": "1.5.0",
            "_view_count": null,
            "_view_module_version": "1.5.0",
            "box_style": "",
            "layout": "IPY_MODEL_a48a6e1d998c4357af25fb8741eb4811",
            "_model_module": "@jupyter-widgets/controls",
            "children": [
              "IPY_MODEL_6160e10150114c6bb51f6b3fa28f4c33",
              "IPY_MODEL_acdffa70ce32470683aef43b38c333cb"
            ]
          }
        },
        "a48a6e1d998c4357af25fb8741eb4811": {
          "model_module": "@jupyter-widgets/base",
          "model_name": "LayoutModel",
          "state": {
            "_view_name": "LayoutView",
            "grid_template_rows": null,
            "right": null,
            "justify_content": null,
            "_view_module": "@jupyter-widgets/base",
            "overflow": null,
            "_model_module_version": "1.2.0",
            "_view_count": null,
            "flex_flow": null,
            "width": null,
            "min_width": null,
            "border": null,
            "align_items": null,
            "bottom": null,
            "_model_module": "@jupyter-widgets/base",
            "top": null,
            "grid_column": null,
            "overflow_y": null,
            "overflow_x": null,
            "grid_auto_flow": null,
            "grid_area": null,
            "grid_template_columns": null,
            "flex": null,
            "_model_name": "LayoutModel",
            "justify_items": null,
            "grid_row": null,
            "max_height": null,
            "align_content": null,
            "visibility": null,
            "align_self": null,
            "height": null,
            "min_height": null,
            "padding": null,
            "grid_auto_rows": null,
            "grid_gap": null,
            "max_width": null,
            "order": null,
            "_view_module_version": "1.2.0",
            "grid_template_areas": null,
            "object_position": null,
            "object_fit": null,
            "grid_auto_columns": null,
            "margin": null,
            "display": null,
            "left": null
          }
        },
        "6160e10150114c6bb51f6b3fa28f4c33": {
          "model_module": "@jupyter-widgets/controls",
          "model_name": "FloatProgressModel",
          "state": {
            "_view_name": "ProgressView",
            "style": "IPY_MODEL_85373343930b4ab497e91882016cf879",
            "_dom_classes": [],
            "description": "",
            "_model_name": "FloatProgressModel",
            "bar_style": "success",
            "max": 4542,
            "_view_module": "@jupyter-widgets/controls",
            "_model_module_version": "1.5.0",
            "value": 4542,
            "_view_count": null,
            "_view_module_version": "1.5.0",
            "orientation": "horizontal",
            "min": 0,
            "description_tooltip": null,
            "_model_module": "@jupyter-widgets/controls",
            "layout": "IPY_MODEL_7de60f4fc8504ec0a383abae6136db7c"
          }
        },
        "acdffa70ce32470683aef43b38c333cb": {
          "model_module": "@jupyter-widgets/controls",
          "model_name": "HTMLModel",
          "state": {
            "_view_name": "HTMLView",
            "style": "IPY_MODEL_241a52e869e34c269b5d702980b0502e",
            "_dom_classes": [],
            "description": "",
            "_model_name": "HTMLModel",
            "placeholder": "​",
            "_view_module": "@jupyter-widgets/controls",
            "_model_module_version": "1.5.0",
            "value": " 5120/? [00:34&lt;00:00, 149.12it/s]",
            "_view_count": null,
            "_view_module_version": "1.5.0",
            "description_tooltip": null,
            "_model_module": "@jupyter-widgets/controls",
            "layout": "IPY_MODEL_d87b80c3c31e45a39a7fae0b47dacd33"
          }
        },
        "85373343930b4ab497e91882016cf879": {
          "model_module": "@jupyter-widgets/controls",
          "model_name": "ProgressStyleModel",
          "state": {
            "_view_name": "StyleView",
            "_model_name": "ProgressStyleModel",
            "description_width": "initial",
            "_view_module": "@jupyter-widgets/base",
            "_model_module_version": "1.5.0",
            "_view_count": null,
            "_view_module_version": "1.2.0",
            "bar_color": null,
            "_model_module": "@jupyter-widgets/controls"
          }
        },
        "7de60f4fc8504ec0a383abae6136db7c": {
          "model_module": "@jupyter-widgets/base",
          "model_name": "LayoutModel",
          "state": {
            "_view_name": "LayoutView",
            "grid_template_rows": null,
            "right": null,
            "justify_content": null,
            "_view_module": "@jupyter-widgets/base",
            "overflow": null,
            "_model_module_version": "1.2.0",
            "_view_count": null,
            "flex_flow": null,
            "width": null,
            "min_width": null,
            "border": null,
            "align_items": null,
            "bottom": null,
            "_model_module": "@jupyter-widgets/base",
            "top": null,
            "grid_column": null,
            "overflow_y": null,
            "overflow_x": null,
            "grid_auto_flow": null,
            "grid_area": null,
            "grid_template_columns": null,
            "flex": null,
            "_model_name": "LayoutModel",
            "justify_items": null,
            "grid_row": null,
            "max_height": null,
            "align_content": null,
            "visibility": null,
            "align_self": null,
            "height": null,
            "min_height": null,
            "padding": null,
            "grid_auto_rows": null,
            "grid_gap": null,
            "max_width": null,
            "order": null,
            "_view_module_version": "1.2.0",
            "grid_template_areas": null,
            "object_position": null,
            "object_fit": null,
            "grid_auto_columns": null,
            "margin": null,
            "display": null,
            "left": null
          }
        },
        "241a52e869e34c269b5d702980b0502e": {
          "model_module": "@jupyter-widgets/controls",
          "model_name": "DescriptionStyleModel",
          "state": {
            "_view_name": "StyleView",
            "_model_name": "DescriptionStyleModel",
            "description_width": "",
            "_view_module": "@jupyter-widgets/base",
            "_model_module_version": "1.5.0",
            "_view_count": null,
            "_view_module_version": "1.2.0",
            "_model_module": "@jupyter-widgets/controls"
          }
        },
        "d87b80c3c31e45a39a7fae0b47dacd33": {
          "model_module": "@jupyter-widgets/base",
          "model_name": "LayoutModel",
          "state": {
            "_view_name": "LayoutView",
            "grid_template_rows": null,
            "right": null,
            "justify_content": null,
            "_view_module": "@jupyter-widgets/base",
            "overflow": null,
            "_model_module_version": "1.2.0",
            "_view_count": null,
            "flex_flow": null,
            "width": null,
            "min_width": null,
            "border": null,
            "align_items": null,
            "bottom": null,
            "_model_module": "@jupyter-widgets/base",
            "top": null,
            "grid_column": null,
            "overflow_y": null,
            "overflow_x": null,
            "grid_auto_flow": null,
            "grid_area": null,
            "grid_template_columns": null,
            "flex": null,
            "_model_name": "LayoutModel",
            "justify_items": null,
            "grid_row": null,
            "max_height": null,
            "align_content": null,
            "visibility": null,
            "align_self": null,
            "height": null,
            "min_height": null,
            "padding": null,
            "grid_auto_rows": null,
            "grid_gap": null,
            "max_width": null,
            "order": null,
            "_view_module_version": "1.2.0",
            "grid_template_areas": null,
            "object_position": null,
            "object_fit": null,
            "grid_auto_columns": null,
            "margin": null,
            "display": null,
            "left": null
          }
        }
      }
    }
  },
  "cells": [
    {
      "cell_type": "markdown",
      "metadata": {
        "id": "view-in-github",
        "colab_type": "text"
      },
      "source": [
        "<a href=\"https://colab.research.google.com/github/YCYoon2015/DL_zero_to_all_PyTorch/blob/master/210803_ch10_3.ipynb\" target=\"_parent\"><img src=\"https://colab.research.google.com/assets/colab-badge.svg\" alt=\"Open In Colab\"/></a>"
      ]
    },
    {
      "cell_type": "markdown",
      "metadata": {
        "id": "8LmK8dFG6K55"
      },
      "source": [
        "##ML 학습 단계.\n",
        "\n",
        "1. 라이브러리 가져오기\n",
        "2. GPU 사용설정. random value를 위한 seed 설정\n",
        "3. 학습 파라미터 설정(learning_rate, traing_epochs, batch_size 등)\n",
        "4. 데이터 셋 가져오고 loader 만들기\n",
        "5. 학습 모델 만들기\n",
        "6. Loss function (Criterion)을 선택하고 최적화 도구 선택(optimizer)\n",
        "7. 모델 학습 및 loss check(Criterion의 output)\n",
        "8. 학습된 모델의 성능 확인"
      ]
    },
    {
      "cell_type": "code",
      "metadata": {
        "id": "YwtNShAm5-VF"
      },
      "source": [
        "import torch\n",
        "import torch.nn as nn"
      ],
      "execution_count": null,
      "outputs": []
    },
    {
      "cell_type": "code",
      "metadata": {
        "id": "hrCqJXfB7H4X"
      },
      "source": [
        "inputs = torch.Tensor(1,1,28,28)"
      ],
      "execution_count": null,
      "outputs": []
    },
    {
      "cell_type": "code",
      "metadata": {
        "colab": {
          "base_uri": "https://localhost:8080/"
        },
        "id": "dIsh365S7QgN",
        "outputId": "d042df85-de50-4a76-f8a1-0ca5a526d643"
      },
      "source": [
        "inputs.shape"
      ],
      "execution_count": null,
      "outputs": [
        {
          "output_type": "execute_result",
          "data": {
            "text/plain": [
              "torch.Size([1, 1, 28, 28])"
            ]
          },
          "metadata": {
            "tags": []
          },
          "execution_count": 3
        }
      ]
    },
    {
      "cell_type": "code",
      "metadata": {
        "id": "jQyXa1IL7R-l"
      },
      "source": [
        "conv1 = nn.Conv2d(1,32,3,padding=1)"
      ],
      "execution_count": null,
      "outputs": []
    },
    {
      "cell_type": "code",
      "metadata": {
        "id": "JqdimeBy7vkC"
      },
      "source": [
        "pool = nn.MaxPool2d(2)"
      ],
      "execution_count": null,
      "outputs": []
    },
    {
      "cell_type": "code",
      "metadata": {
        "colab": {
          "base_uri": "https://localhost:8080/"
        },
        "id": "WeYaW7mJ7yMj",
        "outputId": "0c8a9b26-91f1-4f54-b1db-176d8ead48fa"
      },
      "source": [
        "pool"
      ],
      "execution_count": null,
      "outputs": [
        {
          "output_type": "execute_result",
          "data": {
            "text/plain": [
              "MaxPool2d(kernel_size=2, stride=2, padding=0, dilation=1, ceil_mode=False)"
            ]
          },
          "metadata": {
            "tags": []
          },
          "execution_count": 6
        }
      ]
    },
    {
      "cell_type": "code",
      "metadata": {
        "id": "7t5Vv4iY7zAL"
      },
      "source": [
        "conv2 = nn.Conv2d(32,64,3,padding=1)"
      ],
      "execution_count": null,
      "outputs": []
    },
    {
      "cell_type": "code",
      "metadata": {
        "id": "H_FzCixQ78YP"
      },
      "source": [
        "out = conv1(inputs)"
      ],
      "execution_count": null,
      "outputs": []
    },
    {
      "cell_type": "code",
      "metadata": {
        "colab": {
          "base_uri": "https://localhost:8080/"
        },
        "id": "M6UNyORq8BJZ",
        "outputId": "2d0d3b85-c97c-4587-fbd8-dc3ff00642c0"
      },
      "source": [
        "out.shape"
      ],
      "execution_count": null,
      "outputs": [
        {
          "output_type": "execute_result",
          "data": {
            "text/plain": [
              "torch.Size([1, 32, 28, 28])"
            ]
          },
          "metadata": {
            "tags": []
          },
          "execution_count": 9
        }
      ]
    },
    {
      "cell_type": "code",
      "metadata": {
        "colab": {
          "base_uri": "https://localhost:8080/"
        },
        "id": "vQjR5pUO8B36",
        "outputId": "59051c62-ddac-448f-9617-e82fb0819f03"
      },
      "source": [
        "out = pool(out)"
      ],
      "execution_count": null,
      "outputs": [
        {
          "output_type": "stream",
          "text": [
            "/usr/local/lib/python3.7/dist-packages/torch/nn/functional.py:718: UserWarning: Named tensors and all their associated APIs are an experimental feature and subject to change. Please do not use them for anything important until they are released as stable. (Triggered internally at  /pytorch/c10/core/TensorImpl.h:1156.)\n",
            "  return torch.max_pool2d(input, kernel_size, stride, padding, dilation, ceil_mode)\n"
          ],
          "name": "stderr"
        }
      ]
    },
    {
      "cell_type": "code",
      "metadata": {
        "colab": {
          "base_uri": "https://localhost:8080/"
        },
        "id": "Udq4dE7Q8Hcr",
        "outputId": "6d88c292-0535-4714-a85f-92b12c601ec9"
      },
      "source": [
        "out.shape"
      ],
      "execution_count": null,
      "outputs": [
        {
          "output_type": "execute_result",
          "data": {
            "text/plain": [
              "torch.Size([1, 32, 14, 14])"
            ]
          },
          "metadata": {
            "tags": []
          },
          "execution_count": 11
        }
      ]
    },
    {
      "cell_type": "code",
      "metadata": {
        "id": "az6jvcY58IOU"
      },
      "source": [
        "out = conv2(out)"
      ],
      "execution_count": null,
      "outputs": []
    },
    {
      "cell_type": "code",
      "metadata": {
        "id": "I_MDFJZj8M4F"
      },
      "source": [
        "out = pool(out)"
      ],
      "execution_count": null,
      "outputs": []
    },
    {
      "cell_type": "code",
      "metadata": {
        "colab": {
          "base_uri": "https://localhost:8080/"
        },
        "id": "ZscpQ3Cc8RHX",
        "outputId": "c76d9fca-d102-46df-bf90-ed7a06c192eb"
      },
      "source": [
        "out.shape"
      ],
      "execution_count": null,
      "outputs": [
        {
          "output_type": "execute_result",
          "data": {
            "text/plain": [
              "torch.Size([1, 64, 7, 7])"
            ]
          },
          "metadata": {
            "tags": []
          },
          "execution_count": 15
        }
      ]
    },
    {
      "cell_type": "markdown",
      "metadata": {
        "id": "4AUG2VWH-EYC"
      },
      "source": [
        "Test 1![image.png](data:image/png;base64,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)"
      ]
    },
    {
      "cell_type": "code",
      "metadata": {
        "id": "HQs0b3p98Sjq"
      },
      "source": [
        "import torch\n",
        "import torchvision.datasets as dsets\n",
        "import torchvision.transforms as transforms\n",
        "import torch.nn.init"
      ],
      "execution_count": 1,
      "outputs": []
    },
    {
      "cell_type": "code",
      "metadata": {
        "id": "cUSQPWyL4NyW"
      },
      "source": [
        "device = 'cuda' if torch.cuda.is_available() else 'cpu'\n",
        "\n",
        "torch.manual_seed(555) # 랜덤값을 시드를 이용해서 고정시킨다.\n",
        "if device == 'cuda':\n",
        "  torch.cuda.manual_seed(555)"
      ],
      "execution_count": 2,
      "outputs": []
    },
    {
      "cell_type": "code",
      "metadata": {
        "id": "pw-S0R_44kt2"
      },
      "source": [
        "learning_rate = 0.001\n",
        "training_epochs = 15\n",
        "batch_size = 100"
      ],
      "execution_count": 3,
      "outputs": []
    },
    {
      "cell_type": "code",
      "metadata": {
        "colab": {
          "base_uri": "https://localhost:8080/",
          "height": 750,
          "referenced_widgets": [
            "dc8ebfd386a64943aa6a805cd099810a",
            "685c22dcb1eb431db015db4c9662d039",
            "3ae3e0d64b0842199191edb47bc2adb5",
            "f3f67099e01a47809a9998c4a99efa4d",
            "aa365342614b4b3b82137904b0cd344d",
            "71a010e27a8a4d76a9e50e5efcd243e7",
            "ccb7ee1a34bd42baafcd78d29c361df9",
            "d156334c7e78460795084c1c3fe7ae31",
            "29a47deb8c2848debeda3600b16bd14f",
            "0cee0a14268f41ab9eaaf636411a9917",
            "b51721f8f51a423c9dd19e5cabf45b98",
            "96dc42e798474575a6cfb0abead03247",
            "818da2f28f7545119489ec4de8884d56",
            "f07b7fc2d5284c23a68b6d8fc913bf69",
            "79caddfe561542ceb74a6564e9eb4afc",
            "c1b08b02cbef47b69f6e802b942d0e0b",
            "c8b373fade304f22988d838e2191e41e",
            "3a3cea855fcf4a0bbf6936b3f6bc2433",
            "504801c181e54e1ea31c29e34355741b",
            "956afd9a8ea74ac980c5dee5e9eb62e2",
            "d6ea91433f244a7ca9a15fa3476a99b4",
            "b0887382c2204e178cf1d59756760ae4",
            "e3d6849148504b86ae940cbe26d91d92",
            "7e429204c66b4910bca82501226e8e3a",
            "c2fad5a8480447a9908c89947f232ea8",
            "a48a6e1d998c4357af25fb8741eb4811",
            "6160e10150114c6bb51f6b3fa28f4c33",
            "acdffa70ce32470683aef43b38c333cb",
            "85373343930b4ab497e91882016cf879",
            "7de60f4fc8504ec0a383abae6136db7c",
            "241a52e869e34c269b5d702980b0502e",
            "d87b80c3c31e45a39a7fae0b47dacd33"
          ]
        },
        "id": "SAo2ASk94qwL",
        "outputId": "75b25d6f-1292-4520-fc31-045908697350"
      },
      "source": [
        "# MNIST datset (torchvision에서 받는다.)\n",
        "\n",
        "mnist_train = dsets.MNIST(root='MNIST_data/',\n",
        "                          train=True,\n",
        "                          transform=transforms.ToTensor(), # 받아온 데이터를 텐서로 만든다.\n",
        "                          download=True)\n",
        "mnist_test = dsets.MNIST(root='MNIST_data/',\n",
        "                         train=False, # 여기에 false는 테스트 데이터를 의미한다.\n",
        "                         transform=transforms.ToTensor(),\n",
        "                         download=True)"
      ],
      "execution_count": 4,
      "outputs": [
        {
          "output_type": "stream",
          "text": [
            "Downloading http://yann.lecun.com/exdb/mnist/train-images-idx3-ubyte.gz\n",
            "Failed to download (trying next):\n",
            "HTTP Error 503: Service Unavailable\n",
            "\n",
            "Downloading https://ossci-datasets.s3.amazonaws.com/mnist/train-images-idx3-ubyte.gz\n",
            "Downloading https://ossci-datasets.s3.amazonaws.com/mnist/train-images-idx3-ubyte.gz to MNIST_data/MNIST/raw/train-images-idx3-ubyte.gz\n"
          ],
          "name": "stdout"
        },
        {
          "output_type": "display_data",
          "data": {
            "application/vnd.jupyter.widget-view+json": {
              "model_id": "dc8ebfd386a64943aa6a805cd099810a",
              "version_minor": 0,
              "version_major": 2
            },
            "text/plain": [
              "HBox(children=(FloatProgress(value=0.0, max=9912422.0), HTML(value='')))"
            ]
          },
          "metadata": {
            "tags": []
          }
        },
        {
          "output_type": "stream",
          "text": [
            "\n",
            "Extracting MNIST_data/MNIST/raw/train-images-idx3-ubyte.gz to MNIST_data/MNIST/raw\n",
            "\n",
            "Downloading http://yann.lecun.com/exdb/mnist/train-labels-idx1-ubyte.gz\n",
            "Downloading http://yann.lecun.com/exdb/mnist/train-labels-idx1-ubyte.gz to MNIST_data/MNIST/raw/train-labels-idx1-ubyte.gz\n"
          ],
          "name": "stdout"
        },
        {
          "output_type": "display_data",
          "data": {
            "application/vnd.jupyter.widget-view+json": {
              "model_id": "29a47deb8c2848debeda3600b16bd14f",
              "version_minor": 0,
              "version_major": 2
            },
            "text/plain": [
              "HBox(children=(FloatProgress(value=0.0, max=28881.0), HTML(value='')))"
            ]
          },
          "metadata": {
            "tags": []
          }
        },
        {
          "output_type": "stream",
          "text": [
            "\n",
            "Extracting MNIST_data/MNIST/raw/train-labels-idx1-ubyte.gz to MNIST_data/MNIST/raw\n",
            "\n",
            "Downloading http://yann.lecun.com/exdb/mnist/t10k-images-idx3-ubyte.gz\n",
            "Downloading http://yann.lecun.com/exdb/mnist/t10k-images-idx3-ubyte.gz to MNIST_data/MNIST/raw/t10k-images-idx3-ubyte.gz\n",
            "Failed to download (trying next):\n",
            "HTTP Error 503: Service Unavailable\n",
            "\n",
            "Downloading https://ossci-datasets.s3.amazonaws.com/mnist/t10k-images-idx3-ubyte.gz\n",
            "Downloading https://ossci-datasets.s3.amazonaws.com/mnist/t10k-images-idx3-ubyte.gz to MNIST_data/MNIST/raw/t10k-images-idx3-ubyte.gz\n"
          ],
          "name": "stdout"
        },
        {
          "output_type": "display_data",
          "data": {
            "application/vnd.jupyter.widget-view+json": {
              "model_id": "c8b373fade304f22988d838e2191e41e",
              "version_minor": 0,
              "version_major": 2
            },
            "text/plain": [
              "HBox(children=(FloatProgress(value=0.0, max=1648877.0), HTML(value='')))"
            ]
          },
          "metadata": {
            "tags": []
          }
        },
        {
          "output_type": "stream",
          "text": [
            "\n",
            "Extracting MNIST_data/MNIST/raw/t10k-images-idx3-ubyte.gz to MNIST_data/MNIST/raw\n",
            "\n",
            "Downloading http://yann.lecun.com/exdb/mnist/t10k-labels-idx1-ubyte.gz\n",
            "Downloading http://yann.lecun.com/exdb/mnist/t10k-labels-idx1-ubyte.gz to MNIST_data/MNIST/raw/t10k-labels-idx1-ubyte.gz\n"
          ],
          "name": "stdout"
        },
        {
          "output_type": "display_data",
          "data": {
            "application/vnd.jupyter.widget-view+json": {
              "model_id": "c2fad5a8480447a9908c89947f232ea8",
              "version_minor": 0,
              "version_major": 2
            },
            "text/plain": [
              "HBox(children=(FloatProgress(value=0.0, max=4542.0), HTML(value='')))"
            ]
          },
          "metadata": {
            "tags": []
          }
        },
        {
          "output_type": "stream",
          "text": [
            "\n",
            "Extracting MNIST_data/MNIST/raw/t10k-labels-idx1-ubyte.gz to MNIST_data/MNIST/raw\n",
            "\n"
          ],
          "name": "stdout"
        },
        {
          "output_type": "stream",
          "text": [
            "/usr/local/lib/python3.7/dist-packages/torchvision/datasets/mnist.py:498: UserWarning: The given NumPy array is not writeable, and PyTorch does not support non-writeable tensors. This means you can write to the underlying (supposedly non-writeable) NumPy array using the tensor. You may want to copy the array to protect its data or make it writeable before converting it to a tensor. This type of warning will be suppressed for the rest of this program. (Triggered internally at  /pytorch/torch/csrc/utils/tensor_numpy.cpp:180.)\n",
            "  return torch.from_numpy(parsed.astype(m[2], copy=False)).view(*s)\n"
          ],
          "name": "stderr"
        }
      ]
    },
    {
      "cell_type": "code",
      "metadata": {
        "id": "EpLWhgq25nAk"
      },
      "source": [
        "# data loader를 적용한다.\n",
        "\n",
        "data_loader = torch.utils.data.DataLoader(dataset=mnist_train, # 학습에 사용할 데이터 셋이다.\n",
        "                                          batch_size=batch_size, # 크기 지정(위에서 설정함)\n",
        "                                          shuffle=True, # 데이터셋을 섞은 상태로 학습시킨다.\n",
        "                                          drop_last=True)"
      ],
      "execution_count": 5,
      "outputs": []
    },
    {
      "cell_type": "code",
      "metadata": {
        "id": "dVUJm3PH6L_L"
      },
      "source": [
        "# 모델 만들기\n",
        "\n",
        "class CNN(torch.nn.Module): # 파이토치에서 상속받아 시작한다.\n",
        "\n",
        "  def __init__(self):\n",
        "    super(CNN, self).__init__() # 초기함수\n",
        "\n",
        "    self.layer1 = torch.nn.Sequential(\n",
        "        torch.nn.Conv2d(1, 32, kernel_size=3, stride=1, padding=1), # 왜 이렇게 잡았을까?\n",
        "        torch.nn.ReLU(),\n",
        "        torch.nn.MaxPool2d(kernel_size=2, stride=2)\n",
        "    ) # 앞서 손으로 진행한 L1, Conv, Pool 과정이다.\n",
        "\n",
        "    self.layer2 = torch.nn.Sequential(\n",
        "        torch.nn.Conv2d(32, 64, kernel_size=3, stride=1, padding=1), # 32를받아 64를 보내고\n",
        "        torch.nn.ReLU(),\n",
        "        torch.nn.MaxPool2d(kernel_size=2, stride=2)\n",
        "    ) # FC 7x7x64 inputs -> 10 outputs\n",
        "\n",
        "    self.fc = torch.nn.Linear(7 * 7 * 64, 10, bias=True) # 7*7*64는 두번째 layer를 거치면 나온다. 여기 out은 10개다.\n",
        "    torch.nn.init.xavier_uniform_(self.fc.weight) # 초기화\n",
        "\n",
        "  def forward(self, x):\n",
        "    out = self.layer1(x) # layer1을 통과한다\n",
        "    out = self.layer2(out) # layer2를통과한다\n",
        "    out = out.view(out.size(0), -1) # view로 한줄로 펼친다.\n",
        "    out = self.fc(out)\n",
        "    return out"
      ],
      "execution_count": 9,
      "outputs": []
    },
    {
      "cell_type": "code",
      "metadata": {
        "id": "qU8vWdCX8Ep-"
      },
      "source": [
        "model  = CNN().to(device)"
      ],
      "execution_count": 10,
      "outputs": []
    },
    {
      "cell_type": "code",
      "metadata": {
        "id": "CRGvW12q8HoO"
      },
      "source": [
        "criterion = torch.nn.CrossEntropyLoss().to(device) # 이용하기로 한 손실함수이다. 왜 이걸로 할까?\n",
        "optimizer = torch.optim.Adam(model.parameters(), lr=learning_rate) # 아담 옵티마이저"
      ],
      "execution_count": 11,
      "outputs": []
    },
    {
      "cell_type": "code",
      "metadata": {
        "colab": {
          "base_uri": "https://localhost:8080/"
        },
        "id": "UtndFMC48TrV",
        "outputId": "c742f6dd-09f0-44e9-aebf-3f7a559700a8"
      },
      "source": [
        "total_batch = len(data_loader)\n",
        "print('Learning started')\n",
        "for epoch in range(training_epochs):\n",
        "  avg_cost = 0 # 여기에 loss를 담는다.\n",
        "\n",
        "  for X, Y in data_loader: # X는 이미지고 Y는 라벨이다.\n",
        "    X = X.to(device) # 사용하는 장치에 맞게 텐서가 지정되어있어야 한다.\n",
        "    Y = Y.to(device)\n",
        "\n",
        "    optimizer.zero_grad() \n",
        "    hypothesis = model(X)\n",
        "    cost = criterion(hypothesis, Y)\n",
        "    cost.backward()\n",
        "    optimizer.step() \n",
        "\n",
        "    avg_cost += cost/total_batch\n",
        "\n",
        "  print('[Epoch: {:>4} cost = {:>.9}'.format(epoch + 1, avg_cost))\n",
        "print('end')"
      ],
      "execution_count": 14,
      "outputs": [
        {
          "output_type": "stream",
          "text": [
            "Learning started\n"
          ],
          "name": "stdout"
        },
        {
          "output_type": "stream",
          "text": [
            "/usr/local/lib/python3.7/dist-packages/torch/nn/functional.py:718: UserWarning: Named tensors and all their associated APIs are an experimental feature and subject to change. Please do not use them for anything important until they are released as stable. (Triggered internally at  /pytorch/c10/core/TensorImpl.h:1156.)\n",
            "  return torch.max_pool2d(input, kernel_size, stride, padding, dilation, ceil_mode)\n"
          ],
          "name": "stderr"
        },
        {
          "output_type": "stream",
          "text": [
            "[Epoch:    1 cost = 0.231220603\n",
            "[Epoch:    2 cost = 0.0652029514\n",
            "[Epoch:    3 cost = 0.0472799726\n",
            "[Epoch:    4 cost = 0.0372297429\n",
            "[Epoch:    5 cost = 0.0308244657\n",
            "[Epoch:    6 cost = 0.0262094848\n",
            "[Epoch:    7 cost = 0.0223919582\n",
            "[Epoch:    8 cost = 0.0189750977\n",
            "[Epoch:    9 cost = 0.0163925756\n",
            "[Epoch:   10 cost = 0.0143746873\n",
            "[Epoch:   11 cost = 0.0109881246\n",
            "[Epoch:   12 cost = 0.0106444024\n",
            "[Epoch:   13 cost = 0.00945081003\n",
            "[Epoch:   14 cost = 0.00740125403\n",
            "[Epoch:   15 cost = 0.00672267657\n",
            "end\n"
          ],
          "name": "stdout"
        }
      ]
    },
    {
      "cell_type": "code",
      "metadata": {
        "colab": {
          "base_uri": "https://localhost:8080/"
        },
        "id": "RffSoz3S9BCX",
        "outputId": "d46b9418-7b14-499f-d5b7-5a64d16290f0"
      },
      "source": [
        "with torch.no_grad(): # 테스트는 학습하지 않는다.\n",
        "    X_test = mnist_test.test_data.view(len(mnist_test), 1, 28, 28).float().to(device) # 값을 한번에 집어넣으려고 펼친것\n",
        "    Y_test = mnist_test.test_labels.to(device)\n",
        "\n",
        "    prediction = model(X_test)\n",
        "    correct_prediction = torch.argmax(prediction, 1) == Y_test # 같은지 판단한다.\n",
        "    accuracy = correct_prediction.float().mean()\n",
        "    print('Accuracy:', accuracy.item())"
      ],
      "execution_count": 15,
      "outputs": [
        {
          "output_type": "stream",
          "text": [
            "Accuracy: 0.9853000044822693\n"
          ],
          "name": "stdout"
        },
        {
          "output_type": "stream",
          "text": [
            "/usr/local/lib/python3.7/dist-packages/torchvision/datasets/mnist.py:67: UserWarning: test_data has been renamed data\n",
            "  warnings.warn(\"test_data has been renamed data\")\n",
            "/usr/local/lib/python3.7/dist-packages/torchvision/datasets/mnist.py:57: UserWarning: test_labels has been renamed targets\n",
            "  warnings.warn(\"test_labels has been renamed targets\")\n"
          ],
          "name": "stderr"
        }
      ]
    },
    {
      "cell_type": "code",
      "metadata": {
        "id": "T6yAXrrzAioF"
      },
      "source": [
        ""
      ],
      "execution_count": null,
      "outputs": []
    }
  ]
}