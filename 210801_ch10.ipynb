{
  "nbformat": 4,
  "nbformat_minor": 0,
  "metadata": {
    "colab": {
      "name": "210801_ch10.ipynb",
      "provenance": [],
      "authorship_tag": "ABX9TyOYhtPxXaoLGPyJ8YfuSS8n",
      "include_colab_link": true
    },
    "kernelspec": {
      "name": "python3",
      "display_name": "Python 3"
    },
    "language_info": {
      "name": "python"
    }
  },
  "cells": [
    {
      "cell_type": "markdown",
      "metadata": {
        "id": "view-in-github",
        "colab_type": "text"
      },
      "source": [
        "<a href=\"https://colab.research.google.com/github/YCYoon2015/DL_zero_to_all_PyTorch/blob/master/210801_ch10.ipynb\" target=\"_parent\"><img src=\"https://colab.research.google.com/assets/colab-badge.svg\" alt=\"Open In Colab\"/></a>"
      ]
    },
    {
      "cell_type": "code",
      "metadata": {
        "id": "rmOCVjPOOxcJ"
      },
      "source": [
        "# stride: 이동 거리를 정의한다.\n",
        "# padding: 배열의 주위에 0으로 둘러싸는 개수이다."
      ],
      "execution_count": 1,
      "outputs": []
    },
    {
      "cell_type": "code",
      "metadata": {
        "id": "Fzn5duGh-hus"
      },
      "source": [
        "# CNN start"
      ],
      "execution_count": 2,
      "outputs": []
    },
    {
      "cell_type": "code",
      "metadata": {
        "id": "EPE-Vjb5-i5D"
      },
      "source": [
        "import torch\n",
        "import torch.nn as nn"
      ],
      "execution_count": 3,
      "outputs": []
    },
    {
      "cell_type": "code",
      "metadata": {
        "id": "6I-bI0WJ_psM"
      },
      "source": [
        "conv = nn.Conv2d(1,1,11,stride=4,padding=0)"
      ],
      "execution_count": 4,
      "outputs": []
    },
    {
      "cell_type": "code",
      "metadata": {
        "colab": {
          "base_uri": "https://localhost:8080/"
        },
        "id": "UG7zy2eJ_61h",
        "outputId": "0d0d5647-2bc2-4c4d-d93e-37452791e159"
      },
      "source": [
        "conv"
      ],
      "execution_count": 5,
      "outputs": [
        {
          "output_type": "execute_result",
          "data": {
            "text/plain": [
              "Conv2d(1, 1, kernel_size=(11, 11), stride=(4, 4))"
            ]
          },
          "metadata": {
            "tags": []
          },
          "execution_count": 5
        }
      ]
    },
    {
      "cell_type": "code",
      "metadata": {
        "id": "zIy2wv_D_8AK"
      },
      "source": [
        "inputs = torch.Tensor(1,1,227,277)"
      ],
      "execution_count": 6,
      "outputs": []
    },
    {
      "cell_type": "code",
      "metadata": {
        "colab": {
          "base_uri": "https://localhost:8080/"
        },
        "id": "4O8L4wMHAEY1",
        "outputId": "91bb5bcc-3940-4953-e887-f2b1cb9dfe1f"
      },
      "source": [
        "inputs.shape"
      ],
      "execution_count": 7,
      "outputs": [
        {
          "output_type": "execute_result",
          "data": {
            "text/plain": [
              "torch.Size([1, 1, 227, 277])"
            ]
          },
          "metadata": {
            "tags": []
          },
          "execution_count": 7
        }
      ]
    },
    {
      "cell_type": "code",
      "metadata": {
        "id": "nIqCLg8GAFeu"
      },
      "source": [
        "out = conv(inputs)"
      ],
      "execution_count": 8,
      "outputs": []
    },
    {
      "cell_type": "code",
      "metadata": {
        "colab": {
          "base_uri": "https://localhost:8080/"
        },
        "id": "NTd1rVTFAHnf",
        "outputId": "b953e27b-c833-4001-bade-7068cf8709aa"
      },
      "source": [
        "out.shape"
      ],
      "execution_count": 9,
      "outputs": [
        {
          "output_type": "execute_result",
          "data": {
            "text/plain": [
              "torch.Size([1, 1, 55, 67])"
            ]
          },
          "metadata": {
            "tags": []
          },
          "execution_count": 9
        }
      ]
    },
    {
      "cell_type": "code",
      "metadata": {
        "id": "yHaAnKz1AJbo"
      },
      "source": [
        "conv = nn.Conv2d(1,1,7,stride=2,padding=0)"
      ],
      "execution_count": 10,
      "outputs": []
    },
    {
      "cell_type": "code",
      "metadata": {
        "id": "1RYku2FEAPWU"
      },
      "source": [
        "inputs = torch.Tensor(1,1,64,64)"
      ],
      "execution_count": 11,
      "outputs": []
    },
    {
      "cell_type": "code",
      "metadata": {
        "id": "zLbsnIx0ATns"
      },
      "source": [
        "out = conv(inputs)"
      ],
      "execution_count": 12,
      "outputs": []
    },
    {
      "cell_type": "code",
      "metadata": {
        "colab": {
          "base_uri": "https://localhost:8080/"
        },
        "id": "5UcR-SufAVSd",
        "outputId": "ca6a21ef-3b98-4086-df77-f3716e6b0e6f"
      },
      "source": [
        "out.shape"
      ],
      "execution_count": 13,
      "outputs": [
        {
          "output_type": "execute_result",
          "data": {
            "text/plain": [
              "torch.Size([1, 1, 29, 29])"
            ]
          },
          "metadata": {
            "tags": []
          },
          "execution_count": 13
        }
      ]
    },
    {
      "cell_type": "markdown",
      "metadata": {
        "id": "Jcz4lCrRBa1x"
      },
      "source": [
        "CNN implementation 구현"
      ]
    },
    {
      "cell_type": "code",
      "metadata": {
        "id": "ecPU4U0oAWhd"
      },
      "source": [
        "input = torch.Tensor(1,1,28,28)"
      ],
      "execution_count": 14,
      "outputs": []
    },
    {
      "cell_type": "code",
      "metadata": {
        "id": "a54hiSKsBkSU"
      },
      "source": [
        "conv1 = nn.Conv2d(1,5,5)"
      ],
      "execution_count": 15,
      "outputs": []
    },
    {
      "cell_type": "code",
      "metadata": {
        "id": "2qYO2187BnJX"
      },
      "source": [
        "pool=nn.MaxPool2d(2)"
      ],
      "execution_count": 16,
      "outputs": []
    },
    {
      "cell_type": "code",
      "metadata": {
        "id": "vTwvlTPsBr6R"
      },
      "source": [
        "out=conv1(input)"
      ],
      "execution_count": 17,
      "outputs": []
    },
    {
      "cell_type": "code",
      "metadata": {
        "colab": {
          "base_uri": "https://localhost:8080/"
        },
        "id": "vuX3_bKxBxss",
        "outputId": "9a37bd13-2299-42a4-87d4-1ec3c8fde09b"
      },
      "source": [
        "out2=pool(out)"
      ],
      "execution_count": 18,
      "outputs": [
        {
          "output_type": "stream",
          "text": [
            "/usr/local/lib/python3.7/dist-packages/torch/nn/functional.py:718: UserWarning: Named tensors and all their associated APIs are an experimental feature and subject to change. Please do not use them for anything important until they are released as stable. (Triggered internally at  /pytorch/c10/core/TensorImpl.h:1156.)\n",
            "  return torch.max_pool2d(input, kernel_size, stride, padding, dilation, ceil_mode)\n"
          ],
          "name": "stderr"
        }
      ]
    },
    {
      "cell_type": "code",
      "metadata": {
        "colab": {
          "base_uri": "https://localhost:8080/"
        },
        "id": "TkKF29HQBz0t",
        "outputId": "b7f1692b-d9a0-43dc-c0dc-7710b25d598b"
      },
      "source": [
        "out.size()"
      ],
      "execution_count": 19,
      "outputs": [
        {
          "output_type": "execute_result",
          "data": {
            "text/plain": [
              "torch.Size([1, 5, 24, 24])"
            ]
          },
          "metadata": {
            "tags": []
          },
          "execution_count": 19
        }
      ]
    },
    {
      "cell_type": "code",
      "metadata": {
        "colab": {
          "base_uri": "https://localhost:8080/"
        },
        "id": "SfyuagELB06N",
        "outputId": "a33e24be-bceb-4409-c57e-be55ab6600c7"
      },
      "source": [
        "out2.size()"
      ],
      "execution_count": 20,
      "outputs": [
        {
          "output_type": "execute_result",
          "data": {
            "text/plain": [
              "torch.Size([1, 5, 12, 12])"
            ]
          },
          "metadata": {
            "tags": []
          },
          "execution_count": 20
        }
      ]
    },
    {
      "cell_type": "code",
      "metadata": {
        "id": "yD6RDFMXB2OO"
      },
      "source": [
        ""
      ],
      "execution_count": null,
      "outputs": []
    }
  ]
}